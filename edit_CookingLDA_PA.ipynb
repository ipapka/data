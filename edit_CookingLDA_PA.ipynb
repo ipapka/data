{
 "cells": [
  {
   "cell_type": "markdown",
   "metadata": {},
   "source": [
    "# Programming Assignment: \n",
    "## Готовим LDA по рецептам"
   ]
  },
  {
   "cell_type": "markdown",
   "metadata": {},
   "source": [
    "Как вы уже знаете, в тематическом моделировании делается предположение о том, что для определения тематики порядок слов в документе не важен; об этом гласит гипотеза «мешка слов». Сегодня мы будем работать с несколько нестандартной для тематического моделирования коллекцией, которую можно назвать «мешком ингредиентов», потому что на состоит из рецептов блюд разных кухонь. Тематические модели ищут слова, которые часто вместе встречаются в документах, и составляют из них темы. Мы попробуем применить эту идею к рецептам и найти кулинарные «темы». Эта коллекция хороша тем, что не требует предобработки. Кроме того, эта задача достаточно наглядно иллюстрирует принцип работы тематических моделей.\n",
    "\n",
    "Для выполнения заданий, помимо часто используемых в курсе библиотек, потребуются модули *json* и *gensim*. Первый входит в дистрибутив Anaconda, второй можно поставить командой \n",
    "\n",
    "*pip install gensim*\n",
    "\n",
    "Построение модели занимает некоторое время. На ноутбуке с процессором Intel Core i7 и тактовой частотой 2400 МГц на построение одной модели уходит менее 10 минут."
   ]
  },
  {
   "cell_type": "markdown",
   "metadata": {},
   "source": [
    "### Загрузка данных"
   ]
  },
  {
   "cell_type": "markdown",
   "metadata": {},
   "source": [
    "Коллекция дана в json-формате: для каждого рецепта известны его id, кухня (cuisine) и список ингредиентов, в него входящих. Загрузить данные можно с помощью модуля json (он входит в дистрибутив Anaconda):"
   ]
  },
  {
   "cell_type": "code",
   "execution_count": 1,
   "metadata": {},
   "outputs": [],
   "source": [
    "import json"
   ]
  },
  {
   "cell_type": "code",
   "execution_count": 2,
   "metadata": {},
   "outputs": [],
   "source": [
    "with open(\"recipes.json\") as f:\n",
    "    recipes = json.load(f)"
   ]
  },
  {
   "cell_type": "code",
   "execution_count": 3,
   "metadata": {},
   "outputs": [
    {
     "name": "stdout",
     "output_type": "stream",
     "text": [
      "{u'cuisine': u'greek', u'id': 10259, u'ingredients': [u'romaine lettuce', u'black olives', u'grape tomatoes', u'garlic', u'pepper', u'purple onion', u'seasoning', u'garbanzo beans', u'feta cheese crumbles']}\n"
     ]
    }
   ],
   "source": [
    "print recipes[0]"
   ]
  },
  {
   "cell_type": "markdown",
   "metadata": {},
   "source": [
    "### Составление корпуса"
   ]
  },
  {
   "cell_type": "code",
   "execution_count": 4,
   "metadata": {},
   "outputs": [
    {
     "name": "stderr",
     "output_type": "stream",
     "text": [
      "C:\\Users\\Asus\\Anaconda2\\lib\\site-packages\\gensim\\utils.py:865: UserWarning: detected Windows; aliasing chunkize to chunkize_serial\n",
      "  warnings.warn(\"detected Windows; aliasing chunkize to chunkize_serial\")\n"
     ]
    }
   ],
   "source": [
    "from gensim import corpora, models\n",
    "import numpy as np"
   ]
  },
  {
   "cell_type": "markdown",
   "metadata": {},
   "source": [
    "Наша коллекция небольшая, и целиком помещается в оперативную память. Gensim может работать с такими данными и не требует их сохранения на диск в специальном формате. Для этого коллекция должна быть представлена в виде списка списков, каждый внутренний список соответствует отдельному документу и состоит из его слов. Пример коллекции из двух документов: \n",
    "\n",
    "[[\"hello\", \"world\"], [\"programming\", \"in\", \"python\"]]\n",
    "\n",
    "Преобразуем наши данные в такой формат, а затем создадим объекты corpus и dictionary, с которыми будет работать модель."
   ]
  },
  {
   "cell_type": "code",
   "execution_count": 5,
   "metadata": {},
   "outputs": [],
   "source": [
    "texts = [recipe[\"ingredients\"] for recipe in recipes]\n",
    "dictionary = corpora.Dictionary(texts)   # составляем словарь\n",
    "corpus = [dictionary.doc2bow(text) for text in texts]  # составляем корпус документов"
   ]
  },
  {
   "cell_type": "code",
   "execution_count": 6,
   "metadata": {},
   "outputs": [
    {
     "name": "stdout",
     "output_type": "stream",
     "text": [
      "[u'romaine lettuce', u'black olives', u'grape tomatoes', u'garlic', u'pepper', u'purple onion', u'seasoning', u'garbanzo beans', u'feta cheese crumbles']\n",
      "[(0, 1), (1, 1), (2, 1), (3, 1), (4, 1), (5, 1), (6, 1), (7, 1), (8, 1)]\n"
     ]
    }
   ],
   "source": [
    "print texts[0]\n",
    "print corpus[0]"
   ]
  },
  {
   "cell_type": "code",
   "execution_count": 7,
   "metadata": {},
   "outputs": [
    {
     "name": "stdout",
     "output_type": "stream",
     "text": [
      "(3067, u'low-sodium fat-free chicken broth')\n",
      "(4351, u'sweetened coconut')\n",
      "(4124, u'baking chocolate')\n",
      "(197, u'egg roll wrappers')\n",
      "(6280, u'bottled low sodium salsa')\n",
      "(1712, u'vegan parmesan cheese')\n",
      "(5433, u'clam sauce')\n",
      "(6168, u'mahlab')\n",
      "(1988, u'(10 oz.) frozen chopped spinach, thawed and squeezed dry')\n",
      "(1317, u'figs')\n",
      "(3788, u'caramels')\n"
     ]
    }
   ],
   "source": [
    "count = 0\n",
    "for k, v in dictionary.iteritems():\n",
    "    print(k, v)\n",
    "    count += 1\n",
    "    if count > 10:\n",
    "        break"
   ]
  },
  {
   "cell_type": "code",
   "execution_count": 8,
   "metadata": {},
   "outputs": [],
   "source": [
    "dictionary.token2id[u'sugar']\n",
    "?dictionary.token2id[u'sugar']"
   ]
  },
  {
   "cell_type": "markdown",
   "metadata": {},
   "source": [
    "У объекта dictionary есть полезная переменная dictionary.token2id, позволяющая находить соответствие между ингредиентами и их индексами."
   ]
  },
  {
   "cell_type": "markdown",
   "metadata": {},
   "source": [
    "### Обучение модели\n",
    "Вам может понадобиться [документация](https://radimrehurek.com/gensim/models/ldamodel.html) LDA в gensim."
   ]
  },
  {
   "cell_type": "markdown",
   "metadata": {},
   "source": [
    "__Задание 1.__ Обучите модель LDA с 40 темами, установив количество проходов по коллекции 5 и оставив остальные параметры по умолчанию. \n",
    "\n",
    "\n",
    "Затем вызовите метод модели *show_topics*, указав количество тем 40 и количество токенов 10, и сохраните результат (топы ингредиентов в темах) в отдельную переменную. Если при вызове метода *show_topics* указать параметр *formatted=True*, то топы ингредиентов будет удобно выводить на печать, если *formatted=False*, будет удобно работать со списком программно. Выведите топы на печать, рассмотрите темы, а затем ответьте на вопрос:\n",
    "\n",
    "Сколько раз ингредиенты \"salt\", \"sugar\", \"water\", \"mushrooms\", \"chicken\", \"eggs\" встретились среди топов-10 всех 40 тем? При ответе __не нужно__ учитывать составные ингредиенты, например, \"hot water\".\n",
    "\n",
    "Передайте 6 чисел в функцию save_answers1 и загрузите сгенерированный файл в форму.\n",
    "\n",
    "У gensim нет возможности фиксировать случайное приближение через параметры метода, но библиотека использует numpy для инициализации матриц. Поэтому, по утверждению автора библиотеки, фиксировать случайное приближение нужно командой, которая написана в следующей ячейке. __Перед строкой кода с построением модели обязательно вставляйте указанную строку фиксации random.seed.__"
   ]
  },
  {
   "cell_type": "code",
   "execution_count": 9,
   "metadata": {},
   "outputs": [],
   "source": [
    "np.random.seed(76543)\n",
    "# здесь код для построения модели:\n",
    "lda = models.ldamodel.LdaModel(corpus, num_topics=40, passes=5)"
   ]
  },
  {
   "cell_type": "code",
   "execution_count": 10,
   "metadata": {},
   "outputs": [],
   "source": [
    "show_topics=lda.show_topics(num_topics=40,  num_words=10, formatted=True)"
   ]
  },
  {
   "cell_type": "code",
   "execution_count": 11,
   "metadata": {},
   "outputs": [],
   "source": [
    "str_text=''\n",
    "for i in range(40):\n",
    "    str_text+=show_topics[i][1]+\" \""
   ]
  },
  {
   "cell_type": "code",
   "execution_count": 12,
   "metadata": {},
   "outputs": [],
   "source": [
    "str_text_2=show_topics[0][1]+\" \"+show_topics[1][1]+\" \"+show_topics[2][1]+\" \"+show_topics[3][1]+\" \"+show_topics[4][1]+\" \"+show_topics[5][1]+\" \"+show_topics[6][1]+\" \"+show_topics[7][1]+\" \"+show_topics[8][1]+\" \"+show_topics[9][1]"
   ]
  },
  {
   "cell_type": "code",
   "execution_count": 13,
   "metadata": {},
   "outputs": [
    {
     "data": {
      "text/plain": [
       "'0.083*\"17\" + 0.080*\"116\" + 0.079*\"100\" + 0.064*\"54\" + 0.064*\"279\" + 0.035*\"119\" + 0.034*\"307\" + 0.034*\"29\" + 0.033*\"38\" + 0.032*\"12\" 0.130*\"195\" + 0.077*\"45\" + 0.052*\"178\" + 0.043*\"124\" + 0.040*\"211\" + 0.039*\"29\" + 0.037*\"958\" + 0.031*\"705\" + 0.029*\"17\" + 0.026*\"1493\" 0.066*\"770\" + 0.047*\"830\" + 0.046*\"1338\" + 0.045*\"480\" + 0.044*\"3\" + 0.039*\"1637\" + 0.035*\"816\" + 0.033*\"806\" + 0.030*\"117\" + 0.030*\"1201\" 0.117*\"41\" + 0.112*\"207\" + 0.081*\"17\" + 0.050*\"383\" + 0.049*\"0\" + 0.048*\"45\" + 0.046*\"155\" + 0.030*\"29\" + 0.029*\"425\" + 0.029*\"397\" 0.061*\"200\" + 0.057*\"20\" + 0.055*\"17\" + 0.054*\"39\" + 0.039*\"45\" + 0.034*\"348\" + 0.032*\"183\" + 0.030*\"236\" + 0.027*\"216\" + 0.026*\"12\" 0.073*\"46\" + 0.053*\"17\" + 0.048*\"113\" + 0.041*\"183\" + 0.038*\"54\" + 0.035*\"45\" + 0.033*\"4\" + 0.023*\"39\" + 0.022*\"100\" + 0.020*\"127\" 0.113*\"51\" + 0.087*\"366\" + 0.056*\"310\" + 0.052*\"494\" + 0.048*\"387\" + 0.046*\"541\" + 0.034*\"373\" + 0.033*\"249\" + 0.031*\"52\" + 0.030*\"511\" 0.082*\"557\" + 0.078*\"76\" + 0.078*\"112\" + 0.075*\"54\" + 0.046*\"17\" + 0.045*\"358\" + 0.033*\"100\" + 0.031*\"190\" + 0.028*\"193\" + 0.028*\"141\" 0.089*\"23\" + 0.059*\"471\" + 0.057*\"17\" + 0.057*\"456\" + 0.051*\"29\" + 0.049*\"352\" + 0.041*\"1286\" + 0.033*\"1090\" + 0.027*\"1255\" + 0.026*\"1040\" 0.075*\"83\" + 0.074*\"45\" + 0.065*\"4\" + 0.058*\"478\" + 0.055*\"17\" + 0.053*\"229\" + 0.050*\"321\" + 0.041*\"230\" + 0.040*\"345\" + 0.036*\"54\"'"
      ]
     },
     "execution_count": 13,
     "metadata": {},
     "output_type": "execute_result"
    }
   ],
   "source": [
    "len(str_text_2)\n",
    "str_text_2"
   ]
  },
  {
   "cell_type": "code",
   "execution_count": 14,
   "metadata": {},
   "outputs": [
    {
     "data": {
      "text/plain": [
       "17"
      ]
     },
     "execution_count": 14,
     "metadata": {},
     "output_type": "execute_result"
    }
   ],
   "source": [
    "dictionary.token2id[\"salt\"]"
   ]
  },
  {
   "cell_type": "code",
   "execution_count": 15,
   "metadata": {},
   "outputs": [
    {
     "data": {
      "text/plain": [
       "'salt'"
      ]
     },
     "execution_count": 15,
     "metadata": {},
     "output_type": "execute_result"
    }
   ],
   "source": [
    "\n",
    "list=(\"salt\", \"sugar\", \"water\", \"mushrooms\", \"chicken\", \"eggs\")\n",
    "list[0]"
   ]
  },
  {
   "cell_type": "code",
   "execution_count": 16,
   "metadata": {},
   "outputs": [
    {
     "data": {
      "text/plain": [
       "5395"
      ]
     },
     "execution_count": 16,
     "metadata": {},
     "output_type": "execute_result"
    }
   ],
   "source": [
    "len(str_text)"
   ]
  },
  {
   "cell_type": "code",
   "execution_count": 17,
   "metadata": {},
   "outputs": [
    {
     "data": {
      "text/plain": [
       "'\"17\"'"
      ]
     },
     "execution_count": 17,
     "metadata": {},
     "output_type": "execute_result"
    }
   ],
   "source": [
    "str2=str(dictionary.token2id[list[0]])\n",
    "string ='\"'+str2+'\"'\n",
    "string"
   ]
  },
  {
   "cell_type": "code",
   "execution_count": 167,
   "metadata": {},
   "outputs": [
    {
     "data": {
      "text/plain": [
       "[20, 7, 10, 1, 1, 2]"
      ]
     },
     "execution_count": 167,
     "metadata": {},
     "output_type": "execute_result"
    }
   ],
   "source": [
    "col_text"
   ]
  },
  {
   "cell_type": "code",
   "execution_count": 18,
   "metadata": {},
   "outputs": [
    {
     "data": {
      "text/plain": [
       "10"
      ]
     },
     "execution_count": 18,
     "metadata": {},
     "output_type": "execute_result"
    }
   ],
   "source": [
    "import pandas as pd\n",
    "col_text=pd.Series([])\n",
    "col_text=col_text.tolist()\n",
    "for i in range(len(list)):\n",
    "    string='\"'+str(dictionary.token2id[list[i]])+'\"'\n",
    "    col_text.append(str_text.count(string, 0, len(str_text)))\n",
    "c_salt=col_text[0]\n",
    "c_sugar=col_text[1]\n",
    "c_water=col_text[2]\n",
    "c_mushrooms=col_text[3]\n",
    "c_chicken=col_text[4]\n",
    "c_eggs=col_text[5]\n",
    " \n",
    "c_water\n"
   ]
  },
  {
   "cell_type": "code",
   "execution_count": 19,
   "metadata": {},
   "outputs": [],
   "source": [
    "def save_answers1(c_salt, c_sugar, c_water, c_mushrooms, c_chicken, c_eggs):\n",
    "    with open(\"cooking_LDA_pa_task1.txt\", \"w\") as fout:\n",
    "        fout.write(\" \".join([str(el) for el in [c_salt, c_sugar, c_water, c_mushrooms, c_chicken, c_eggs]]))\n",
    "save_answers1(c_salt, c_sugar, c_water, c_mushrooms, c_chicken, c_eggs)"
   ]
  },
  {
   "cell_type": "markdown",
   "metadata": {},
   "source": [
    "### Фильтрация словаря\n",
    "В топах тем гораздо чаще встречаются первые три рассмотренных ингредиента, чем последние три. При этом наличие в рецепте курицы, яиц и грибов яснее дает понять, что мы будем готовить, чем наличие соли, сахара и воды. Таким образом, даже в рецептах есть слова, часто встречающиеся в текстах и не несущие смысловой нагрузки, и поэтому их не желательно видеть в темах. Наиболее простой прием борьбы с такими фоновыми элементами — фильтрация словаря по частоте. Обычно словарь фильтруют с двух сторон: убирают очень редкие слова (в целях экономии памяти) и очень частые слова (в целях повышения интерпретируемости тем). Мы уберем только частые слова."
   ]
  },
  {
   "cell_type": "code",
   "execution_count": 20,
   "metadata": {},
   "outputs": [],
   "source": [
    "import copy\n",
    "dictionary2 = copy.deepcopy(dictionary)"
   ]
  },
  {
   "cell_type": "code",
   "execution_count": null,
   "metadata": {},
   "outputs": [],
   "source": []
  },
  {
   "cell_type": "code",
   "execution_count": 21,
   "metadata": {},
   "outputs": [],
   "source": [
    "dict_size_before=len(dictionary2)"
   ]
  },
  {
   "cell_type": "code",
   "execution_count": 22,
   "metadata": {},
   "outputs": [],
   "source": [
    "list_keys=dictionary2.dfs.keys()\n",
    "list_values=dictionary2.dfs.values()\n",
    "#df_1=pd.DataFrame(list(zip(list_keys, list_values)))\n",
    "df_1=pd.DataFrame({'K':list_keys, 'V':list_values})\n"
   ]
  },
  {
   "cell_type": "code",
   "execution_count": 23,
   "metadata": {},
   "outputs": [],
   "source": [
    "df_1_sorted=df_1.sort_values(by=df_1.columns[1])\n"
   ]
  },
  {
   "cell_type": "markdown",
   "metadata": {},
   "source": [
    "__Задание 2.__ У объекта dictionary2 есть переменная *dfs* — это словарь, ключами которого являются id токена, а элементами — число раз, сколько слово встретилось во всей коллекции. Сохраните в отдельный список ингредиенты, которые встретились в коллекции больше 4000 раз. Вызовите метод словаря *filter_tokens*, подав в качестве первого аргумента полученный список популярных ингредиентов. Вычислите две величины: dict_size_before и dict_size_after — размер словаря до и после фильтрации.\n",
    "\n",
    "Затем, используя новый словарь, создайте новый корпус документов, corpus2, по аналогии с тем, как это сделано в начале ноутбука. Вычислите две величины: corpus_size_before и corpus_size_after — суммарное количество ингредиентов в корпусе (для каждого документа вычислите число различных ингредиентов в нем и просуммируйте по всем документам) до и после фильтрации.\n",
    "\n",
    "Передайте величины dict_size_before, dict_size_after, corpus_size_before, corpus_size_after в функцию save_answers2 и загрузите сгенерированный файл в форму."
   ]
  },
  {
   "cell_type": "code",
   "execution_count": 24,
   "metadata": {},
   "outputs": [
    {
     "name": "stdout",
     "output_type": "stream",
     "text": [
      "12\n"
     ]
    },
    {
     "data": {
      "text/html": [
       "<div>\n",
       "<style scoped>\n",
       "    .dataframe tbody tr th:only-of-type {\n",
       "        vertical-align: middle;\n",
       "    }\n",
       "\n",
       "    .dataframe tbody tr th {\n",
       "        vertical-align: top;\n",
       "    }\n",
       "\n",
       "    .dataframe thead th {\n",
       "        text-align: right;\n",
       "    }\n",
       "</style>\n",
       "<table border=\"1\" class=\"dataframe\">\n",
       "  <thead>\n",
       "    <tr style=\"text-align: right;\">\n",
       "      <th></th>\n",
       "      <th>K</th>\n",
       "      <th>V</th>\n",
       "    </tr>\n",
       "  </thead>\n",
       "  <tbody>\n",
       "    <tr>\n",
       "      <th>0</th>\n",
       "      <td>0</td>\n",
       "      <td>4438</td>\n",
       "    </tr>\n",
       "    <tr>\n",
       "      <th>4</th>\n",
       "      <td>4</td>\n",
       "      <td>7380</td>\n",
       "    </tr>\n",
       "    <tr>\n",
       "      <th>9</th>\n",
       "      <td>9</td>\n",
       "      <td>4385</td>\n",
       "    </tr>\n",
       "    <tr>\n",
       "      <th>12</th>\n",
       "      <td>12</td>\n",
       "      <td>4784</td>\n",
       "    </tr>\n",
       "    <tr>\n",
       "      <th>17</th>\n",
       "      <td>17</td>\n",
       "      <td>18048</td>\n",
       "    </tr>\n",
       "    <tr>\n",
       "      <th>21</th>\n",
       "      <td>21</td>\n",
       "      <td>4847</td>\n",
       "    </tr>\n",
       "    <tr>\n",
       "      <th>29</th>\n",
       "      <td>29</td>\n",
       "      <td>7457</td>\n",
       "    </tr>\n",
       "    <tr>\n",
       "      <th>45</th>\n",
       "      <td>45</td>\n",
       "      <td>7972</td>\n",
       "    </tr>\n",
       "    <tr>\n",
       "      <th>48</th>\n",
       "      <td>48</td>\n",
       "      <td>6434</td>\n",
       "    </tr>\n",
       "    <tr>\n",
       "      <th>54</th>\n",
       "      <td>54</td>\n",
       "      <td>7971</td>\n",
       "    </tr>\n",
       "    <tr>\n",
       "      <th>100</th>\n",
       "      <td>100</td>\n",
       "      <td>6236</td>\n",
       "    </tr>\n",
       "    <tr>\n",
       "      <th>117</th>\n",
       "      <td>117</td>\n",
       "      <td>4632</td>\n",
       "    </tr>\n",
       "  </tbody>\n",
       "</table>\n",
       "</div>"
      ],
      "text/plain": [
       "       K      V\n",
       "0      0   4438\n",
       "4      4   7380\n",
       "9      9   4385\n",
       "12    12   4784\n",
       "17    17  18048\n",
       "21    21   4847\n",
       "29    29   7457\n",
       "45    45   7972\n",
       "48    48   6434\n",
       "54    54   7971\n",
       "100  100   6236\n",
       "117  117   4632"
      ]
     },
     "execution_count": 24,
     "metadata": {},
     "output_type": "execute_result"
    }
   ],
   "source": [
    "\n",
    "\n",
    "\n",
    "\n",
    "df_4000=df_1[df_1.V > 4000]\n",
    "print(len(df_4000))\n",
    "df_4000"
   ]
  },
  {
   "cell_type": "code",
   "execution_count": 25,
   "metadata": {},
   "outputs": [
    {
     "data": {
      "text/plain": [
       "[0L, 4L, 9L, 12L, 17L, 21L, 29L, 45L, 48L, 54L, 100L, 117L]"
      ]
     },
     "execution_count": 25,
     "metadata": {},
     "output_type": "execute_result"
    }
   ],
   "source": [
    "list_to_sort=df_4000.K.tolist()\n",
    "list_to_sort"
   ]
  },
  {
   "cell_type": "code",
   "execution_count": 26,
   "metadata": {},
   "outputs": [],
   "source": [
    "dictionary2.filter_tokens(bad_ids=list_to_sort)"
   ]
  },
  {
   "cell_type": "code",
   "execution_count": 27,
   "metadata": {},
   "outputs": [
    {
     "name": "stdout",
     "output_type": "stream",
     "text": [
      "(6714, 6702)\n"
     ]
    }
   ],
   "source": [
    "dict_size_after=len(dictionary2)\n",
    "print(dict_size_before, dict_size_after)"
   ]
  },
  {
   "cell_type": "code",
   "execution_count": 28,
   "metadata": {},
   "outputs": [
    {
     "data": {
      "text/plain": [
       "39774"
      ]
     },
     "execution_count": 28,
     "metadata": {},
     "output_type": "execute_result"
    }
   ],
   "source": [
    "len(corpus)"
   ]
  },
  {
   "cell_type": "code",
   "execution_count": 29,
   "metadata": {},
   "outputs": [],
   "source": [
    "df5=pd.Series(corpus)\n"
   ]
  },
  {
   "cell_type": "code",
   "execution_count": 30,
   "metadata": {},
   "outputs": [],
   "source": [
    "corpus_size_before=len(df5.sum())"
   ]
  },
  {
   "cell_type": "code",
   "execution_count": 31,
   "metadata": {},
   "outputs": [
    {
     "data": {
      "text/plain": [
       "428249"
      ]
     },
     "execution_count": 31,
     "metadata": {},
     "output_type": "execute_result"
    }
   ],
   "source": [
    "corpus_size_before"
   ]
  },
  {
   "cell_type": "code",
   "execution_count": 32,
   "metadata": {},
   "outputs": [],
   "source": [
    "corpus2 = [dictionary2.doc2bow(text) for text in texts]  # составляем корпус документов\n",
    "df5_after=pd.Series(corpus2)"
   ]
  },
  {
   "cell_type": "code",
   "execution_count": 33,
   "metadata": {},
   "outputs": [],
   "source": [
    "corpus_size_after=len(df5_after.sum())"
   ]
  },
  {
   "cell_type": "code",
   "execution_count": 34,
   "metadata": {},
   "outputs": [
    {
     "data": {
      "text/plain": [
       "343665"
      ]
     },
     "execution_count": 34,
     "metadata": {},
     "output_type": "execute_result"
    }
   ],
   "source": [
    "corpus_size_after"
   ]
  },
  {
   "cell_type": "code",
   "execution_count": 35,
   "metadata": {},
   "outputs": [],
   "source": [
    "def save_answers2(dict_size_before, dict_size_after, corpus_size_before, corpus_size_after):\n",
    "    with open(\"cooking_LDA_pa_task2.txt\", \"w\") as fout:\n",
    "        fout.write(\" \".join([str(el) for el in [dict_size_before, dict_size_after, corpus_size_before, corpus_size_after]]))"
   ]
  },
  {
   "cell_type": "code",
   "execution_count": 36,
   "metadata": {},
   "outputs": [],
   "source": [
    "save_answers2(dict_size_before, dict_size_after, corpus_size_before, corpus_size_after)"
   ]
  },
  {
   "cell_type": "markdown",
   "metadata": {},
   "source": [
    "### Сравнение когерентностей\n",
    "__Задание 3.__ Постройте еще одну модель по корпусу corpus2 и словарю dictionary2, остальные параметры оставьте такими же, как при первом построении модели. Сохраните новую модель в другую переменную (не перезаписывайте предыдущую модель). Не забудьте про фиксирование seed!\n",
    "\n",
    "Затем воспользуйтесь методом *top_topics* модели, чтобы вычислить ее когерентность. Передайте в качестве аргумента соответствующий модели корпус. Метод вернет список кортежей (топ токенов, когерентность), отсортированных по убыванию последней. Вычислите среднюю по всем темам когерентность для каждой из двух моделей и передайте в функцию save_answers3. "
   ]
  },
  {
   "cell_type": "code",
   "execution_count": 153,
   "metadata": {},
   "outputs": [],
   "source": [
    "np.random.seed(76543)\n",
    "# здесь код для построения модели:\n",
    "\n",
    "lda2 = models.ldamodel.LdaModel(corpus2, id2word=dictionary2, num_topics=40, passes=5)\n",
    "np.random.seed(76543)\n",
    "lda = models.ldamodel.LdaModel(corpus, id2word=dictionary, num_topics=40, passes=5)"
   ]
  },
  {
   "cell_type": "code",
   "execution_count": 38,
   "metadata": {},
   "outputs": [],
   "source": [
    "top_topics2=lda2.top_topics(corpus2)\n",
    "top_topics1=lda.top_topics(corpus)"
   ]
  },
  {
   "cell_type": "code",
   "execution_count": 115,
   "metadata": {},
   "outputs": [
    {
     "data": {
      "text/plain": [
       "[([(0.07124124025081163, u'cumin seed'),\n",
       "   (0.06739695077061796, u'ground turmeric'),\n",
       "   (0.05144140749875991, u'garam masala'),\n",
       "   (0.04891680633804185, u'cinnamon sticks'),\n",
       "   (0.04554684065165622, u'clove'),\n",
       "   (0.03772897243038003, u'tomatoes'),\n",
       "   (0.037189359975672936, u'ginger'),\n",
       "   (0.033687333094579976, u'black peppercorns'),\n",
       "   (0.031625122487959005, u'coriander seeds'),\n",
       "   (0.029635643273047168, u'oil'),\n",
       "   (0.028615544227769123, u'cilantro leaves'),\n",
       "   (0.027314969092606552, u'green chilies'),\n",
       "   (0.02434565597449501, u'tumeric'),\n",
       "   (0.023891389789773274, u'chili powder'),\n",
       "   (0.022182448609846545, u'mustard seeds'),\n",
       "   (0.021275667153493185, u'fennel seeds'),\n",
       "   (0.020917448639028707, u'ghee'),\n",
       "   (0.017862781679006855, u'coriander powder'),\n",
       "   (0.017304522609621915, u'ground cumin'),\n",
       "   (0.015673903200207125, u'bay leaves')],\n",
       "  -461.74295128095326),\n",
       " ([(0.0799288531089658, u'jalapeno chilies'),\n",
       "   (0.052438710768818515, u'avocado'),\n",
       "   (0.05192288980366525, u'lime'),\n",
       "   (0.05183934038088789, u'corn tortillas'),\n",
       "   (0.04182809991829556, u'ground cumin'),\n",
       "   (0.0380309466493599, u'lime juice'),\n",
       "   (0.037664611175864816, u'cilantro'),\n",
       "   (0.03753976393033755, u'chopped cilantro'),\n",
       "   (0.03617880311855363, u'white onion'),\n",
       "   (0.033204629415726876, u'purple onion'),\n",
       "   (0.032812925350084746, u'chopped cilantro fresh'),\n",
       "   (0.02962749781598265, u'tomatoes'),\n",
       "   (0.02940539814898928, u'kosher salt'),\n",
       "   (0.027245060486305615, u'fresh cilantro'),\n",
       "   (0.024358636811262355, u'chili powder'),\n",
       "   (0.021329973190079635, u'fresh lime juice'),\n",
       "   (0.017918964761542963, u'tomatillos'),\n",
       "   (0.017581235506709085, u'cumin'),\n",
       "   (0.017459498376235744, u'cilantro leaves'),\n",
       "   (0.016709965145543026, u'black beans')],\n",
       "  -483.2541340425685),\n",
       " ([(0.07857400528185235, u'rice vinegar'),\n",
       "   (0.07165901935490476, u'soy sauce'),\n",
       "   (0.06429940989048159, u'scallions'),\n",
       "   (0.05285935183958051, u'sesame seeds'),\n",
       "   (0.051621087938484155, u'sesame oil'),\n",
       "   (0.042134854398292135, u'honey'),\n",
       "   (0.03678515208740983, u'fresh ginger'),\n",
       "   (0.03519173124368673, u'green onions'),\n",
       "   (0.03275133209733738, u'low sodium soy sauce'),\n",
       "   (0.024561050203209655, u'carrots'),\n",
       "   (0.02377608969419188, u'toasted sesame seeds'),\n",
       "   (0.022070383660104404, u'Sriracha'),\n",
       "   (0.021907143397008135, u'ground white pepper'),\n",
       "   (0.021227517016355498, u'toasted sesame oil'),\n",
       "   (0.019657237941706658, u'peeled fresh ginger'),\n",
       "   (0.019359082942238762, u'canola oil'),\n",
       "   (0.017678874667507997, u'corn starch'),\n",
       "   (0.01715831146359871, u'kosher salt'),\n",
       "   (0.01620823922432056, u'brown sugar'),\n",
       "   (0.016179839967652394, u'flank steak')],\n",
       "  -533.4275355132789),\n",
       " ([(0.12870577307007164, u'extra-virgin olive oil'),\n",
       "   (0.05376265967118063, u'fresh basil'),\n",
       "   (0.053095582746340575, u'purple onion'),\n",
       "   (0.050478033554389526, u'red wine vinegar'),\n",
       "   (0.048624222652208234, u'tomatoes'),\n",
       "   (0.03727602897003154, u'balsamic vinegar'),\n",
       "   (0.03565613815578913, u'capers'),\n",
       "   (0.029935878543843875, u'eggplant'),\n",
       "   (0.027267545982844706, u'zucchini'),\n",
       "   (0.026763342202766695, u'fresh lemon juice'),\n",
       "   (0.026153893494633696, u'fresh oregano'),\n",
       "   (0.025054814692183625, u'kosher salt'),\n",
       "   (0.024365860728301332, u'cherry tomatoes'),\n",
       "   (0.01926440662382476, u'fresh parsley'),\n",
       "   (0.017823808479770716, u'red bell pepper'),\n",
       "   (0.017555905615962847, u'black pepper'),\n",
       "   (0.014984871959586787, u'dried oregano'),\n",
       "   (0.014225171907094698, u'lemon juice'),\n",
       "   (0.013769640798007904, u'dijon mustard'),\n",
       "   (0.013681941401772172, u'feta cheese crumbles')],\n",
       "  -563.0873874708176),\n",
       " ([(0.12105662607625453, u'unsalted butter'),\n",
       "   (0.11784563937272892, u'large eggs'),\n",
       "   (0.06769050346856308, u'heavy cream'),\n",
       "   (0.057977947456034594, u'vanilla extract'),\n",
       "   (0.0527583842663508, u'whole milk'),\n",
       "   (0.051836810009144196, u'granulated sugar'),\n",
       "   (0.03601955011700812, u'large egg yolks'),\n",
       "   (0.03330426217318382, u'powdered sugar'),\n",
       "   (0.029403000681141676, u'confectioners sugar'),\n",
       "   (0.024454000878273558, u'baking powder'),\n",
       "   (0.02076351113180968, u'vanilla'),\n",
       "   (0.01923547076799803, u'unsweetened cocoa powder'),\n",
       "   (0.019126811817752654, u'sweetened condensed milk'),\n",
       "   (0.01677821174799048, u'grated nutmeg'),\n",
       "   (0.015933515976177558, u'corn starch'),\n",
       "   (0.01550551705376132, u'milk'),\n",
       "   (0.014119164742216011, u'ground cinnamon'),\n",
       "   (0.012357426989837125, u'cream cheese'),\n",
       "   (0.011171901547312943, u'semisweet chocolate'),\n",
       "   (0.010995959261527136, u'kosher salt')],\n",
       "  -567.1626930006108),\n",
       " ([(0.09940720442834154, u'sour cream'),\n",
       "   (0.07649266954568072, u'salsa'),\n",
       "   (0.07561827735712612, u'flour tortillas'),\n",
       "   (0.05279737425317212, u'black beans'),\n",
       "   (0.03533794806252406, u'cheddar cheese'),\n",
       "   (0.03476194990717204, u'cheese'),\n",
       "   (0.03241556302562154, u'shredded cheddar cheese'),\n",
       "   (0.0319673070434928, u'chili powder'),\n",
       "   (0.03117381246719532, u'green onions'),\n",
       "   (0.030305691713066598, u'cream cheese'),\n",
       "   (0.027131038139835043, u'tortilla chips'),\n",
       "   (0.02341151555536118, u'ground cumin'),\n",
       "   (0.021608936510335536, u'long grain white rice'),\n",
       "   (0.01906451645055181, u'tortillas'),\n",
       "   (0.018483501757388294, u'ground beef'),\n",
       "   (0.017608548240731492, u'diced tomatoes'),\n",
       "   (0.015525160459366942, u'chicken broth'),\n",
       "   (0.015235058847858148, u'tomatoes'),\n",
       "   (0.014275243732043218, u'guacamole'),\n",
       "   (0.014241961595428254, u'shredded cheese')],\n",
       "  -575.0146589803635),\n",
       " ([(0.09698613829801972, u'fish sauce'),\n",
       "   (0.05285247807563443, u'coconut milk'),\n",
       "   (0.04379671850931838, u'shallots'),\n",
       "   (0.03502249152747045, u'lime'),\n",
       "   (0.03385068323198605, u'orange juice'),\n",
       "   (0.03183143467697477, u'lemongrass'),\n",
       "   (0.0308079556939391, u'peanuts'),\n",
       "   (0.028834619429604663, u'beansprouts'),\n",
       "   (0.02434587404813435, u'brown sugar'),\n",
       "   (0.024137356994346337, u'lime juice'),\n",
       "   (0.022843956991311486, u'rice noodles'),\n",
       "   (0.019963168932232822, u'cilantro leaves'),\n",
       "   (0.01967102171083356, u'ginger'),\n",
       "   (0.018834506111490037, u'broccoli'),\n",
       "   (0.01760195784273648, u'thai chile'),\n",
       "   (0.017561899134103567, u'shrimp'),\n",
       "   (0.016553573922703256, u'cilantro'),\n",
       "   (0.016513143455534944, u'red chili peppers'),\n",
       "   (0.016200231065085956, u'thai basil'),\n",
       "   (0.015497242627455776, u'scallions')],\n",
       "  -576.9652851501801),\n",
       " ([(0.1156235970028958, u'soy sauce'),\n",
       "   (0.06697438419699131, u'green onions'),\n",
       "   (0.05798787221109181, u'sesame oil'),\n",
       "   (0.03907967375502098, u'ginger'),\n",
       "   (0.03689966514496158, u'ground pork'),\n",
       "   (0.03163915460058016, u'corn starch'),\n",
       "   (0.03154927849787111, u'carrots'),\n",
       "   (0.02852277057610991, u'hoisin sauce'),\n",
       "   (0.02617270683474632, u'eggs'),\n",
       "   (0.025816922769240223, u'sake'),\n",
       "   (0.0237470700152526, u'beef'),\n",
       "   (0.020598689786437505, u'rice vinegar'),\n",
       "   (0.019831290526663884, u'scallions'),\n",
       "   (0.0177679225180612, u'firm tofu'),\n",
       "   (0.016277459634353866, u'fresh ginger'),\n",
       "   (0.015328025265905671, u'oyster sauce'),\n",
       "   (0.014963762923809949, u'white rice'),\n",
       "   (0.014803320140789509, u'brown sugar'),\n",
       "   (0.014742374239224313, u'chicken broth'),\n",
       "   (0.014299098892281701, u'water chestnuts')],\n",
       "  -584.1295239012275),\n",
       " ([(0.0788047631755362, u'corn starch'),\n",
       "   (0.05786342483933153, u'soy sauce'),\n",
       "   (0.04677570013483095, u'white vinegar'),\n",
       "   (0.04461099514914994, u'white pepper'),\n",
       "   (0.03816898203780753, u'cold water'),\n",
       "   (0.03786295898245128, u'cooking oil'),\n",
       "   (0.03151656353405388, u'light soy sauce'),\n",
       "   (0.030200969805686307, u'peanut oil'),\n",
       "   (0.028820272603075115, u'sesame oil'),\n",
       "   (0.02875179743839913, u'scallions'),\n",
       "   (0.025183294970770334, u'dark soy sauce'),\n",
       "   (0.02507948391037312, u'vinegar'),\n",
       "   (0.024558019810445943, u'oil'),\n",
       "   (0.023018198145305275, u'Shaoxing wine'),\n",
       "   (0.021273631838827255, u'chinese five-spice powder'),\n",
       "   (0.020937199535463698, u'ginger'),\n",
       "   (0.02077455986696124, u'oyster sauce'),\n",
       "   (0.020047491366023996, u'rice wine'),\n",
       "   (0.018119783984072876, u'noodles'),\n",
       "   (0.016234872212889943, u'pork tenderloin')],\n",
       "  -590.1892375258055),\n",
       " ([(0.09352063904470446, u'dried oregano'),\n",
       "   (0.08703269709786184, u'garlic powder'),\n",
       "   (0.07516234008157313, u'diced tomatoes'),\n",
       "   (0.05921950798447071, u'tomato paste'),\n",
       "   (0.05297071236834983, u'tomato sauce'),\n",
       "   (0.045630657558922, u'dried basil'),\n",
       "   (0.04102356849832444, u'dried thyme'),\n",
       "   (0.03637578479970029, u'ground beef'),\n",
       "   (0.030244505546369448, u'onion powder'),\n",
       "   (0.026257569885417335, u'chili powder'),\n",
       "   (0.024568171335739297, u'ground cumin'),\n",
       "   (0.024241159202837162, u'black pepper'),\n",
       "   (0.018812110939693916, u'minced garlic'),\n",
       "   (0.01805996047081549, u'boneless skinless chicken breasts'),\n",
       "   (0.01735169192216303, u'chopped onion'),\n",
       "   (0.01716240619835804, u'oregano'),\n",
       "   (0.01698450329506815, u'cayenne pepper'),\n",
       "   (0.014401063374681092, u'minced onion'),\n",
       "   (0.012658462517990276, u'dried parsley'),\n",
       "   (0.012493266347203155, u'ground turkey')],\n",
       "  -609.4004809222661),\n",
       " ([(0.09975610019140507, u'carrots'),\n",
       "   (0.052846188083665126, u'bay leaf'),\n",
       "   (0.04972188216740369, u'bay leaves'),\n",
       "   (0.04503346553088994, u'potatoes'),\n",
       "   (0.04486095179633096, u'celery'),\n",
       "   (0.042336703846798926, u'sea salt'),\n",
       "   (0.0401264180007074, u'celery ribs'),\n",
       "   (0.02670160071326107, u'yellow onion'),\n",
       "   (0.026560568293969786, u'chicken broth'),\n",
       "   (0.0264511220486794, u'chicken stock'),\n",
       "   (0.025961896220874324, u'thyme'),\n",
       "   (0.022461235327976076, u'fresh thyme'),\n",
       "   (0.022303504609034203, u'tomato paste'),\n",
       "   (0.02192095382821446, u'parsley'),\n",
       "   (0.021430829721492045, u'white wine'),\n",
       "   (0.021326002745897854, u'leeks'),\n",
       "   (0.02063528600667159, u'chicken'),\n",
       "   (0.01944905660731568, u'black pepper'),\n",
       "   (0.01706014357988252, u'apple cider vinegar'),\n",
       "   (0.016101998109830748, u'dried thyme')],\n",
       "  -614.6115179830169),\n",
       " ([(0.13271894495645323, u'milk'),\n",
       "   (0.12120058830161187, u'eggs'),\n",
       "   (0.08741671301278997, u'baking powder'),\n",
       "   (0.06991830583192875, u'flour'),\n",
       "   (0.05230175679270509, u'buttermilk'),\n",
       "   (0.05011482409368443, u'baking soda'),\n",
       "   (0.04348215535869555, u'white sugar'),\n",
       "   (0.03608374902679366, u'egg yolks'),\n",
       "   (0.03475585532871917, u'large eggs'),\n",
       "   (0.02627447827336385, u'unsalted butter'),\n",
       "   (0.0218316698312149, u'yellow corn meal'),\n",
       "   (0.020882721636856096, u'hot water'),\n",
       "   (0.02073541475364208, u'corn kernels'),\n",
       "   (0.018780552446814248, u'cornmeal'),\n",
       "   (0.01769871231530111, u'melted butter'),\n",
       "   (0.016831905911076448, u'vanilla extract'),\n",
       "   (0.014102240188516838, u'bananas'),\n",
       "   (0.01003689022034063, u'all purpose unbleached flour'),\n",
       "   (0.009913001899227142, u'egg whites'),\n",
       "   (0.009178350315228597, u'brown sugar')],\n",
       "  -665.3937845418883),\n",
       " ([(0.07430309610299625, u'flat leaf parsley'),\n",
       "   (0.07251013777211361, u'large garlic cloves'),\n",
       "   (0.07223726144916193, u'extra-virgin olive oil'),\n",
       "   (0.06671221834721328, u'dry white wine'),\n",
       "   (0.06579912837077437, u'crushed red pepper'),\n",
       "   (0.05406459966380242, u'plum tomatoes'),\n",
       "   (0.039677673441089356, u'fresh rosemary'),\n",
       "   (0.03442505083094417, u'unsalted butter'),\n",
       "   (0.031034980654659625, u'parmigiano reggiano cheese'),\n",
       "   (0.027540151327780902, u'shallots'),\n",
       "   (0.026907486930204765, u'fresh lemon juice'),\n",
       "   (0.02566738999923911, u'kosher salt'),\n",
       "   (0.024809287879369188, u'large shrimp'),\n",
       "   (0.024753298306143326, u'fine sea salt'),\n",
       "   (0.024342900052930418, u'medium shrimp'),\n",
       "   (0.019726801480616833, u'linguine'),\n",
       "   (0.016296145070914182, u'fennel bulb'),\n",
       "   (0.016286590316574208, u'black pepper'),\n",
       "   (0.016063530523640304, u'anchovy fillets'),\n",
       "   (0.013653432673206824, u'hot red pepper flakes')],\n",
       "  -666.3777092815177),\n",
       " ([(0.07246165883331464, u'parmesan cheese'),\n",
       "   (0.06612876402151041, u'grated parmesan cheese'),\n",
       "   (0.061040326035160665, u'shredded mozzarella cheese'),\n",
       "   (0.051399097948387325, u'ricotta cheese'),\n",
       "   (0.0472503621742622, u'cracked black pepper'),\n",
       "   (0.043386132779225046, u'italian seasoning'),\n",
       "   (0.03997693376152769, u'eggs'),\n",
       "   (0.03639044308217867, u'pasta sauce'),\n",
       "   (0.03632479904705049, u'lean ground beef'),\n",
       "   (0.03132668449548187, u'marinara sauce'),\n",
       "   (0.0301242708155866, u'part-skim mozzarella cheese'),\n",
       "   (0.02858857208444762, u'lasagna noodles'),\n",
       "   (0.02346276037320087, u'large eggs'),\n",
       "   (0.02333868893061241, u'almond extract'),\n",
       "   (0.023029211322353735, u'fresh basil'),\n",
       "   (0.02046525542340559, u'frozen chopped spinach'),\n",
       "   (0.01930743378404538, u'cream cheese, soften'),\n",
       "   (0.017725689552700038, u'part-skim ricotta cheese'),\n",
       "   (0.016241254330715358, u'spaghetti'),\n",
       "   (0.014812381501503049, u'pasta')],\n",
       "  -687.7871899748321),\n",
       " ([(0.07833355631212433, u'ground coriander'),\n",
       "   (0.07317215352312606, u'ground cumin'),\n",
       "   (0.06524518898491295, u'curry powder'),\n",
       "   (0.03456691520095394, u'tumeric'),\n",
       "   (0.034163002390828555, u'vegetable broth'),\n",
       "   (0.03253673891316696, u'fresh ginger'),\n",
       "   (0.02856206130109913, u'basmati rice'),\n",
       "   (0.026924260864399172, u'bell pepper'),\n",
       "   (0.026784456106025468, u'cayenne pepper'),\n",
       "   (0.02528806130267856, u'frozen peas'),\n",
       "   (0.024723915599835816, u'carrots'),\n",
       "   (0.02433279054757422, u'chopped cilantro fresh'),\n",
       "   (0.02377656949127307, u'yoghurt'),\n",
       "   (0.022448948172124287, u'cauliflower'),\n",
       "   (0.022028627877291707, u'boneless chicken skinless thigh'),\n",
       "   (0.021166695022189208, u'garam masala'),\n",
       "   (0.020634030841309586, u'dark sesame oil'),\n",
       "   (0.0190526698581319, u'reduced sodium soy sauce'),\n",
       "   (0.018776944854730603, u'peas'),\n",
       "   (0.018346835509513996, u'coconut milk')],\n",
       "  -694.8521508254137),\n",
       " ([(0.10360886721260261, u'fresh lime juice'),\n",
       "   (0.08432779986069608, u'chopped cilantro fresh'),\n",
       "   (0.06107197649968179, u'cucumber'),\n",
       "   (0.040703573394890266, u'red bell pepper'),\n",
       "   (0.03354685413689209, u'purple onion'),\n",
       "   (0.031965888163064865, u'yellow bell pepper'),\n",
       "   (0.03156481133520835, u'mango'),\n",
       "   (0.029259781007178343, u'lime wedges'),\n",
       "   (0.0291027847715987, u'green beans'),\n",
       "   (0.027819708761793654, u'chopped fresh mint'),\n",
       "   (0.021822668428167918, u'green onions'),\n",
       "   (0.02155587597203426, u'english cucumber'),\n",
       "   (0.02071844930271002, u'lettuce'),\n",
       "   (0.020375609884459366, u'fresh mint'),\n",
       "   (0.016475629271647335, u'cilantro leaves'),\n",
       "   (0.016286736835402663, u'carrots'),\n",
       "   (0.015890134841634117, u'light coconut milk'),\n",
       "   (0.015838965205318422, u'yellow squash'),\n",
       "   (0.013647231786864208, u'fish sauce'),\n",
       "   (0.012929043086588883, u'shredded cabbage')],\n",
       "  -706.481106818708),\n",
       " ([(0.12729282891234703, u'paprika'),\n",
       "   (0.09142254426211265, u'cayenne pepper'),\n",
       "   (0.06815068585052107, u'worcestershire sauce'),\n",
       "   (0.05167598411320712, u'hot sauce'),\n",
       "   (0.04006662251625233, u'cayenne'),\n",
       "   (0.03951329070401668, u'bacon'),\n",
       "   (0.03678430559357676, u'ketchup'),\n",
       "   (0.02881715226932619, u'black pepper'),\n",
       "   (0.02816348114706174, u'garlic powder'),\n",
       "   (0.022990755213765656, u'kosher salt'),\n",
       "   (0.01919024792065754, u'shrimp'),\n",
       "   (0.018861791462200173, u'grits'),\n",
       "   (0.016753310702396287, u'Tabasco Pepper Sauce'),\n",
       "   (0.015988471927823197, u'dijon mustard'),\n",
       "   (0.015042377996315238, u'sharp cheddar cheese'),\n",
       "   (0.014975364592144153, u'dry mustard'),\n",
       "   (0.013740930588977861, u'onion powder'),\n",
       "   (0.01369601161376184, u'boneless chicken breast'),\n",
       "   (0.013434424273088087, u'ground cayenne pepper'),\n",
       "   (0.013271670235349595, u'lemon juice')],\n",
       "  -707.7081142455281),\n",
       " ([(0.1375065729076366, u'cooking spray'),\n",
       "   (0.10104381816365973, u'chopped onion'),\n",
       "   (0.04927279609157001, u'fat free less sodium chicken broth'),\n",
       "   (0.04697974946540345, u'large egg whites'),\n",
       "   (0.04015600452204732, u'finely chopped onion'),\n",
       "   (0.03623140317731765, u'chopped celery'),\n",
       "   (0.03221790830566541, u'black pepper'),\n",
       "   (0.028451359155491112, u'arborio rice'),\n",
       "   (0.028375064322611977, u'low salt chicken broth'),\n",
       "   (0.02496509587995191, u'dry white wine'),\n",
       "   (0.023233575802127718, u'fresh parmesan cheese'),\n",
       "   (0.02312848941967106, u'large eggs'),\n",
       "   (0.022836810912119285, u'chopped fresh thyme'),\n",
       "   (0.022805621162821154, u'chopped green bell pepper'),\n",
       "   (0.018396444405821336, u'ground red pepper'),\n",
       "   (0.01776036645420455, u'1% low-fat milk'),\n",
       "   (0.016105474485306356, u'slivered almonds'),\n",
       "   (0.015971938165043564, u'butternut squash'),\n",
       "   (0.013146108112316972, u'fat free milk'),\n",
       "   (0.012314111521000258, u'heavy whipping cream')],\n",
       "  -728.8681491484846),\n",
       " ([(0.08536074755505067, u'ground cinnamon'),\n",
       "   (0.06464513745907814, u'cinnamon'),\n",
       "   (0.0508542139438592, u'ground ginger'),\n",
       "   (0.043583587940220776, u'ground cloves'),\n",
       "   (0.03447378413746958, u'sweet potatoes'),\n",
       "   (0.03445996556144133, u'ground allspice'),\n",
       "   (0.02917926244019942, u'feta cheese'),\n",
       "   (0.026626401811099244, u'nutmeg'),\n",
       "   (0.026145634506929933, u'greek yogurt'),\n",
       "   (0.023586993862499146, u'curry leaves'),\n",
       "   (0.022474774776258963, u'chopped tomatoes'),\n",
       "   (0.021820514621594008, u'ground cumin'),\n",
       "   (0.02107603903926728, u'honey'),\n",
       "   (0.020525778519457274, u'saffron'),\n",
       "   (0.01941246334110364, u'brown rice'),\n",
       "   (0.018380650142369635, u'brown sugar'),\n",
       "   (0.017884855396840777, u'coconut'),\n",
       "   (0.016877127252315775, u'couscous'),\n",
       "   (0.01659620196282139, u'lemon juice'),\n",
       "   (0.015881757952935272, u'garbanzo beans')],\n",
       "  -735.5495063950406),\n",
       " ([(0.09771672816062044, u'chicken breasts'),\n",
       "   (0.06574291115780101, u'chili powder'),\n",
       "   (0.055767286907295564, u'cumin'),\n",
       "   (0.0515767041853853, u'coriander'),\n",
       "   (0.047308622788866043, u'red pepper'),\n",
       "   (0.04729108051087141, u'green chilies'),\n",
       "   (0.043727513034892876, u'plain yogurt'),\n",
       "   (0.03829833249602843, u'enchilada sauce'),\n",
       "   (0.035135712914221615, u'garlic paste'),\n",
       "   (0.032197242592905136, u'green pepper'),\n",
       "   (0.029153657464365584, u'tomato pur\\xe9e'),\n",
       "   (0.023277957863027485, u'oil'),\n",
       "   (0.02208017761327505, u'corn'),\n",
       "   (0.018302460017577824, u'potatoes'),\n",
       "   (0.017453295325559986, u'ginger paste'),\n",
       "   (0.016607381300928835, u'seeds'),\n",
       "   (0.012941245620297642, u'zucchini'),\n",
       "   (0.011797172414222014, u'fresh coriander'),\n",
       "   (0.011698906415213766, u'mint leaves'),\n",
       "   (0.01151776912019546, u'dough')],\n",
       "  -737.5343273011027),\n",
       " ([(0.07864640772413016, u'shredded cheddar cheese'),\n",
       "   (0.05334517975672166, u'green chile'),\n",
       "   (0.04383981904091412, u'refried beans'),\n",
       "   (0.0359282629071526, u'shredded lettuce'),\n",
       "   (0.03171946225718594, u'green onions'),\n",
       "   (0.030565641744270202, u'taco seasoning mix'),\n",
       "   (0.029996976379522602, u'shredded sharp cheddar cheese'),\n",
       "   (0.029755214865410655, u'sliced black olives'),\n",
       "   (0.029258580764227004, u'sour cream'),\n",
       "   (0.028786898222755986, u'kidney beans'),\n",
       "   (0.025986379506488404, u'beer'),\n",
       "   (0.024467304144210656, u'ground beef'),\n",
       "   (0.02439260534871597, u'tomatoes'),\n",
       "   (0.024392114051162737, u'black olives'),\n",
       "   (0.023357395307655914, u'pinto beans'),\n",
       "   (0.02226483772884888, u'frozen corn kernels'),\n",
       "   (0.018700907555729073, u'black-eyed peas'),\n",
       "   (0.017336878485989422, u'tequila'),\n",
       "   (0.015870109531998855, u'lime rind'),\n",
       "   (0.0151165548427117, u'fennel')],\n",
       "  -758.3253578317629),\n",
       " ([(0.07147982637431242, u'spring onions'),\n",
       "   (0.056176459474375065, u'mirin'),\n",
       "   (0.045773657002712104, u'soy sauce'),\n",
       "   (0.04126893005512106, u'shiitake'),\n",
       "   (0.03908640974231132, u'fresh coriander'),\n",
       "   (0.027116458577053096, u'fresh ginger root'),\n",
       "   (0.025466713248554675, u'daikon'),\n",
       "   (0.02418266933034187, u'penne'),\n",
       "   (0.023922575874209286, u'ginger'),\n",
       "   (0.023832961052765143, u'dashi'),\n",
       "   (0.023150657196816946, u'cooked white rice'),\n",
       "   (0.022236726323134125, u'pork belly'),\n",
       "   (0.021982429543219485, u'carrots'),\n",
       "   (0.02197094814968223, u'cornflour'),\n",
       "   (0.020608713081179696, u'gingerroot'),\n",
       "   (0.02042197785440802, u'ginger root'),\n",
       "   (0.018522928269141127, u'chillies'),\n",
       "   (0.01728386668261001, u'lemon grass'),\n",
       "   (0.016705145927953975, u'chicken stock'),\n",
       "   (0.0167012709968228, u'fillets')],\n",
       "  -762.4474051988069),\n",
       " ([(0.09295897865439803, u'crushed red pepper flakes'),\n",
       "   (0.08478111749184561, u'red pepper flakes'),\n",
       "   (0.061163472111899105, u'crushed tomatoes'),\n",
       "   (0.05436447311936143, u'chopped parsley'),\n",
       "   (0.04705568760292268, u'mozzarella cheese'),\n",
       "   (0.044973389679002045, u'okra'),\n",
       "   (0.04409839538270704, u'andouille sausage'),\n",
       "   (0.03740972039250797, u'roasted red peppers'),\n",
       "   (0.02954135707255205, u'penne pasta'),\n",
       "   (0.021886845170045577, u'sausage casings'),\n",
       "   (0.021790423488292097, u'ham'),\n",
       "   (0.021474616010164815, u'seasoning salt'),\n",
       "   (0.021141655349250565, u'fresh parsley leaves'),\n",
       "   (0.017982800740471268, u'white bread'),\n",
       "   (0.01789480085777693, u'red wine'),\n",
       "   (0.015875837821484728, u'ripe olives'),\n",
       "   (0.015416837044791278, u'tomatoes'),\n",
       "   (0.015233831660355418, u'freshly grated parmesan'),\n",
       "   (0.014650184007276553, u'kosher salt'),\n",
       "   (0.011463328385830083, u'chicken broth')],\n",
       "  -764.4316536639933),\n",
       " ([(0.10178714810733715, u'ground nutmeg'),\n",
       "   (0.06882208865622638, u'sauce'),\n",
       "   (0.04211879942733446, u'eggs'),\n",
       "   (0.04074841331391639, u'shortening'),\n",
       "   (0.03907720831512271, u'vegetable oil cooking spray'),\n",
       "   (0.03608094203445915, u'chopped pecans'),\n",
       "   (0.03506620234484452, u'margarine'),\n",
       "   (0.03256313521012916, u'ground cinnamon'),\n",
       "   (0.0320231573169883, u'self rising flour'),\n",
       "   (0.02935146651139083, u'vanilla extract'),\n",
       "   (0.02603632746291041, u'beef stock'),\n",
       "   (0.025401362175716383, u'grated orange'),\n",
       "   (0.024945540819948833, u'large eggs'),\n",
       "   (0.02238217917638325, u'brown sugar'),\n",
       "   (0.020474547166520942, u'white sugar'),\n",
       "   (0.017239569197455402, u'cottage cheese'),\n",
       "   (0.01586669568205905, u'sweet potatoes'),\n",
       "   (0.014758438958731326, u'beets'),\n",
       "   (0.014623693901919777, u'firmly packed brown sugar'),\n",
       "   (0.01412303843889191, u'white cornmeal')],\n",
       "  -775.3649410054401),\n",
       " ([(0.12289168437339819, u'green bell pepper'),\n",
       "   (0.11072366617875935, u'red bell pepper'),\n",
       "   (0.041449825422650584, u'shrimp'),\n",
       "   (0.041003203561634186, u'green onions'),\n",
       "   (0.039648061151818965, u'fresh parsley'),\n",
       "   (0.03521605557289609, u'sweet onion'),\n",
       "   (0.03078012257298455, u'cabbage'),\n",
       "   (0.02794294301187585, u'cajun seasoning'),\n",
       "   (0.0275412747356419, u'fresh mushrooms'),\n",
       "   (0.025100535613163968, u'tomatoes'),\n",
       "   (0.023774057497566364, u'romaine lettuce'),\n",
       "   (0.023643935376142785, u'pitted kalamata olives'),\n",
       "   (0.01941689441048524, u'celery'),\n",
       "   (0.018953735067270328, u'sausages'),\n",
       "   (0.01888027592837386, u'asparagus'),\n",
       "   (0.018190104667845604, u'chicken breast halves'),\n",
       "   (0.01803826555953623, u'dried rosemary'),\n",
       "   (0.01792647704192145, u'feta cheese crumbles'),\n",
       "   (0.016673512363324046, u'smoked sausage'),\n",
       "   (0.015236894386741712, u'chicken broth')],\n",
       "  -787.2894922204267),\n",
       " ([(0.09731879377731188, u'light brown sugar'),\n",
       "   (0.0644055233538507, u'dark brown sugar'),\n",
       "   (0.044286390329855166, u'peaches'),\n",
       "   (0.044049379621747, u'cilantro sprigs'),\n",
       "   (0.03552032936304637, u'bourbon whiskey'),\n",
       "   (0.033143815123539026, u'apples'),\n",
       "   (0.028599029649143494, u'light corn syrup'),\n",
       "   (0.02639041951962374, u'sugar pea'),\n",
       "   (0.026316818590300533, u'dark rum'),\n",
       "   (0.02302878644788398, u'creamy peanut butter'),\n",
       "   (0.021716680350984636, u'ice cubes'),\n",
       "   (0.021126708109716234, u'blackberries'),\n",
       "   (0.020748770809638075, u'lime'),\n",
       "   (0.01956236259267901, u'jicama'),\n",
       "   (0.018020068263585792, u'lime zest'),\n",
       "   (0.01765712158504406, u'pecan halves'),\n",
       "   (0.017500507606515933, u'cachaca'),\n",
       "   (0.016950727445148684, u'granulated sugar'),\n",
       "   (0.013814366213768489, u'kosher salt'),\n",
       "   (0.012940937132769876, u'liquid')],\n",
       "  -791.5059371111847),\n",
       " ([(0.07265690869911347, u'cider vinegar'),\n",
       "   (0.06434457889361395, u'boiling water'),\n",
       "   (0.05105464771605642, u'dry red wine'),\n",
       "   (0.04941137764040254, u'beef broth'),\n",
       "   (0.04724871993375695, u'lemon wedge'),\n",
       "   (0.04037253501434285, u'thyme sprigs'),\n",
       "   (0.038471158513603394, u'almonds'),\n",
       "   (0.030799514963237754, u'ancho chile pepper'),\n",
       "   (0.029142962429190514, u'chipotle chile'),\n",
       "   (0.02796629782824287, u'red cabbage'),\n",
       "   (0.02767447308339078, u'green cabbage'),\n",
       "   (0.025876514061220983, u'parsley sprigs'),\n",
       "   (0.018267818629904075, u'fat'),\n",
       "   (0.016507572255353, u'pico de gallo'),\n",
       "   (0.015342377915985228, u'cooked ham'),\n",
       "   (0.015113283596729836, u'herbs'),\n",
       "   (0.014884140664216415, u'sweet corn'),\n",
       "   (0.013809721959828084, u'chuck roast'),\n",
       "   (0.012484003827055385, u'black peppercorns'),\n",
       "   (0.01241346382123561, u'honey')],\n",
       "  -845.1131702144822),\n",
       " ([(0.13652785335994672, u'fresh lemon juice'),\n",
       "   (0.05303431544575984, u'white wine vinegar'),\n",
       "   (0.0516477962032382, u'cream'),\n",
       "   (0.04518116562110172, u'baguette'),\n",
       "   (0.04430760313690847, u'saffron threads'),\n",
       "   (0.038342807019037646, u'fresh mint'),\n",
       "   (0.037767374039242595, u'evaporated milk'),\n",
       "   (0.037022323698046734, u'golden raisins'),\n",
       "   (0.031728311110770346, u'mussels'),\n",
       "   (0.03101936690503478, u'grated lemon peel'),\n",
       "   (0.02865596119609626, u'polenta'),\n",
       "   (0.026162152819256167, u'bread'),\n",
       "   (0.025268892898021898, u'shallots'),\n",
       "   (0.020058921525764647, u'rosemary sprigs'),\n",
       "   (0.019800704834249352, u'sliced almonds'),\n",
       "   (0.019472604393405528, u'dry white wine'),\n",
       "   (0.019148724162648303, u'cr\\xe8me fra\\xeeche'),\n",
       "   (0.016528241817147522, u'frozen pastry puff sheets'),\n",
       "   (0.01649625852430829, u'sage leaves'),\n",
       "   (0.015172719931954359, u'clam juice')],\n",
       "  -852.289669770702),\n",
       " ([(0.08334816521239861, u'smoked paprika'),\n",
       "   (0.07569223526143547, u'chickpeas'),\n",
       "   (0.06336788265786691, u'juice'),\n",
       "   (0.05326067460652576, u'monterey jack'),\n",
       "   (0.048878309271440774, u'pasta'),\n",
       "   (0.034393386237910266, u'dried apricot'),\n",
       "   (0.034363021792045485, u'vegetables'),\n",
       "   (0.03403736106454715, u'green peas'),\n",
       "   (0.03306661633637125, u'pork shoulder'),\n",
       "   (0.03141170462969593, u'dried shiitake mushrooms'),\n",
       "   (0.024811580831012463, u'diced tomatoes'),\n",
       "   (0.02194890769038993, u'ground chicken'),\n",
       "   (0.019936325093167624, u'diced green chilies'),\n",
       "   (0.01946530533904379, u'tilapia fillets'),\n",
       "   (0.015828042468105576, u'Anaheim chile'),\n",
       "   (0.013264827667069694, u'masala'),\n",
       "   (0.012456105491377972, u'yellow onion'),\n",
       "   (0.012144847330252631, u'salad oil'),\n",
       "   (0.012074804547563258, u'chicken stock'),\n",
       "   (0.01047580439789268, u'pineapple chunks')],\n",
       "  -853.4097314129707),\n",
       " ([(0.08159486545483391, u'sliced green onions'),\n",
       "   (0.061196121524559104, u'ground red pepper'),\n",
       "   (0.06074818232950937, u'long-grain rice'),\n",
       "   (0.05009203768383325, u'diced onions'),\n",
       "   (0.04709646048274206, u'sliced mushrooms'),\n",
       "   (0.04371482833187416, u'fresh spinach'),\n",
       "   (0.03852176869838979, u'vegetable stock'),\n",
       "   (0.033397507215630375, u'creole seasoning'),\n",
       "   (0.027744369189743674, u'button mushrooms'),\n",
       "   (0.02564701647345598, u'minced garlic'),\n",
       "   (0.023053584153157818, u'barbecue sauce'),\n",
       "   (0.022907679283593548, u'chili pepper'),\n",
       "   (0.019651019383382488, u'crawfish'),\n",
       "   (0.019609177801568838, u'diced tomatoes'),\n",
       "   (0.018191385394689903, u'Thai fish sauce'),\n",
       "   (0.017419862584445667, u'masa harina'),\n",
       "   (0.01728694648268742, u'elbow macaroni'),\n",
       "   (0.016887330803594985, u'chicken pieces'),\n",
       "   (0.016423542153161462, u'diced celery'),\n",
       "   (0.013944921964084001, u'finely chopped fresh parsley')],\n",
       "  -866.998011706908),\n",
       " ([(0.2211458865214848, u'grated parmesan cheese'),\n",
       "   (0.04828825494129432, u'fresh basil leaves'),\n",
       "   (0.033566325803129335, u'baking potatoes'),\n",
       "   (0.03165433175048276, u'pinenuts'),\n",
       "   (0.031099875139849853, u'fresh parsley'),\n",
       "   (0.030686784120984772, u'heavy cream'),\n",
       "   (0.025656400252700686, u'fresh thyme leaves'),\n",
       "   (0.025402049801890928, u'fettucine'),\n",
       "   (0.025189737928189265, u'vanilla beans'),\n",
       "   (0.02362141438267526, u'low sodium chicken broth'),\n",
       "   (0.02317017995528852, u'kosher salt'),\n",
       "   (0.019497272997589826, u'ricotta'),\n",
       "   (0.019457012192022193, u'fresh basil'),\n",
       "   (0.017387643190992664, u'seasoned bread crumbs'),\n",
       "   (0.017379753103924072, u'whole peeled tomatoes'),\n",
       "   (0.015698971397363787, u'tomato juice'),\n",
       "   (0.01429044216646874, u'spaghetti'),\n",
       "   (0.013311938354077409, u'sherry'),\n",
       "   (0.012978968118088238, u'ranch dressing'),\n",
       "   (0.01272978662300456, u'serrano chilies')],\n",
       "  -869.1620368681857),\n",
       " ([(0.1496799241973167, u'oil'),\n",
       "   (0.06139276227734209, u'bread crumbs'),\n",
       "   (0.05659158597292388, u'basil'),\n",
       "   (0.054198644390683615, u'eggs'),\n",
       "   (0.03279273071057413, u'flour'),\n",
       "   (0.03112319429417188, u'olives'),\n",
       "   (0.03014284887002798, u'plain flour'),\n",
       "   (0.02833071890750319, u'pimentos'),\n",
       "   (0.02143508300538285, u'fish'),\n",
       "   (0.021213651033879035, u'clams'),\n",
       "   (0.01955217079862895, u'crushed garlic'),\n",
       "   (0.01900609528991905, u'mustard'),\n",
       "   (0.018730639690413036, u'rice vermicelli'),\n",
       "   (0.016219629677289994, u'anchovy paste'),\n",
       "   (0.01615984335008073, u'crabmeat'),\n",
       "   (0.016031175806208435, u'potatoes'),\n",
       "   (0.013729962490354406, u'salami'),\n",
       "   (0.013027950960536562, u'cooked shrimp'),\n",
       "   (0.012889285680140423, u'chicken bouillon'),\n",
       "   (0.012379976720268191, u'mozzarella cheese')],\n",
       "  -874.9132831637967),\n",
       " ([(0.07421807697829606, u'grated lemon zest'),\n",
       "   (0.04559662043701091, u'chopped fresh chives'),\n",
       "   (0.041288320370555354, u'minced ginger'),\n",
       "   (0.041083040089855936, u'yukon gold potatoes'),\n",
       "   (0.039867402192674276, u'reduced sodium chicken broth'),\n",
       "   (0.03673955957116186, u'stewed tomatoes'),\n",
       "   (0.031939394025655904, u'kale'),\n",
       "   (0.03066837464332767, u'fresh tarragon'),\n",
       "   (0.030632098891578793, u'rice flour'),\n",
       "   (0.028440862830201558, u'fresh lemon juice'),\n",
       "   (0.024415384060846066, u'chili oil'),\n",
       "   (0.024064823124695878, u'Italian bread'),\n",
       "   (0.021630142753793376, u'watercress'),\n",
       "   (0.019931650668929924, u'nori'),\n",
       "   (0.017988426627612467, u'shallots'),\n",
       "   (0.017603470143587038, u'rolls'),\n",
       "   (0.017300669541841306, u'white miso'),\n",
       "   (0.0170275397473515, u'white beans'),\n",
       "   (0.01650012559077042, u'white sesame seeds'),\n",
       "   (0.01577911908382546, u'miso paste')],\n",
       "  -875.4935601762521),\n",
       " ([(0.09457018376309406, u'cooked rice'),\n",
       "   (0.07330724339522755, u'chopped garlic'),\n",
       "   (0.05478291809066537, u'lemon zest'),\n",
       "   (0.04332997379855708, u'unsweetened coconut milk'),\n",
       "   (0.04142748413777552, u'mint leaves'),\n",
       "   (0.03702281058839959, u'mint'),\n",
       "   (0.033891636248028066, u'Thai red curry paste'),\n",
       "   (0.03341753856046198, u'peeled fresh ginger'),\n",
       "   (0.033025941763240876, u'basil leaves'),\n",
       "   (0.03175801648083476, u'red chili peppers'),\n",
       "   (0.025954617615804393, u'garlic chili sauce'),\n",
       "   (0.023601366551561687, u'red lentils'),\n",
       "   (0.019420808708540797, u'condensed milk'),\n",
       "   (0.01790199196992785, u'table salt'),\n",
       "   (0.017012445367630944, u'green cardamom pods'),\n",
       "   (0.015367464127267567, u'whole cloves'),\n",
       "   (0.013975275376160877, u'rigatoni'),\n",
       "   (0.013544915717025369, u'halibut fillets'),\n",
       "   (0.012815855094906103, u'peanut oil'),\n",
       "   (0.010702154901320628, u'ras el hanout')],\n",
       "  -875.9005856556417),\n",
       " ([(0.15686510145841617, u'mayonaise'),\n",
       "   (0.05663892986455124, u'dry bread crumbs'),\n",
       "   (0.046781163555924314, u'garlic salt'),\n",
       "   (0.04156532983015129, u'egg whites'),\n",
       "   (0.037972492995530426, u'red potato'),\n",
       "   (0.03159040641885382, u'lettuce leaves'),\n",
       "   (0.031161621613907346, u'hot pepper sauce'),\n",
       "   (0.027197472940956993, u'eggs'),\n",
       "   (0.026090050703759884, u'green olives'),\n",
       "   (0.02530542054139539, u'bacon slices'),\n",
       "   (0.024613858771768835, u'green onions'),\n",
       "   (0.01926924981940774, u'vidalia onion'),\n",
       "   (0.016272081029610915, u'red beans'),\n",
       "   (0.016261610412572226, u'green tomatoes'),\n",
       "   (0.015674325590869977, u'lemon juice'),\n",
       "   (0.015134663094095106, u'superfine sugar'),\n",
       "   (0.014775826326696927, u'skirt steak'),\n",
       "   (0.012619978620161612, u'bacon drippings'),\n",
       "   (0.012134519597479902, u'celery seed'),\n",
       "   (0.011952022031915479, u'creole mustard')],\n",
       "  -878.4811752131099),\n",
       " ([(0.08547795129754154, u'chile pepper'),\n",
       "   (0.057839976575339874, u'radishes'),\n",
       "   (0.05101340775818019, u'strawberries'),\n",
       "   (0.04938459304715927, u'chiles'),\n",
       "   (0.0399359135282234, u'chili'),\n",
       "   (0.03350984780638976, u'fresh tomatoes'),\n",
       "   (0.02419362619162759, u'ice'),\n",
       "   (0.02180548797279121, u'pears'),\n",
       "   (0.021378043517974444, u'boneless pork shoulder'),\n",
       "   (0.020570892808468248, u'beans'),\n",
       "   (0.020129486095317613, u'chicken drumsticks'),\n",
       "   (0.019870661754673134, u'tomatoes with juice'),\n",
       "   (0.01843821668622383, u'reduced-fat sour cream'),\n",
       "   (0.018004209317799672, u'ancho powder'),\n",
       "   (0.017409693850420082, u'sirloin steak'),\n",
       "   (0.017111434633346367, u'chuck'),\n",
       "   (0.016752578827886166, u'ground sirloin'),\n",
       "   (0.01637672511305736, u'beef rib short'),\n",
       "   (0.016270347821954894, u'mung bean sprouts'),\n",
       "   (0.01596781287818559, u'raspberries')],\n",
       "  -890.4490734375129),\n",
       " ([(0.09956864696085546, u'boneless skinless chicken breast halves'),\n",
       "   (0.093824559569113, u'warm water'),\n",
       "   (0.062106938057218064, u'active dry yeast'),\n",
       "   (0.04277197504899829, u'russet potatoes'),\n",
       "   (0.0423866392795113, u'taco seasoning'),\n",
       "   (0.035474823111600225, u'salt and ground black pepper'),\n",
       "   (0.03257193467516368, u'cannellini beans'),\n",
       "   (0.03178290877724958, u'bread flour'),\n",
       "   (0.03120774172787163, u'prosciutto'),\n",
       "   (0.028067433345542122, u'chipotles in adobo'),\n",
       "   (0.027328343317107248, u'goat cheese'),\n",
       "   (0.02329532098800825, u'corn oil'),\n",
       "   (0.02095981780456672, u'dry yeast'),\n",
       "   (0.020773858103711434, u'fontina cheese'),\n",
       "   (0.020546972909907438, u'chopped walnuts'),\n",
       "   (0.01937524848142996, u'marsala wine'),\n",
       "   (0.018826168775981728, u'greek style plain yogurt'),\n",
       "   (0.018774685352952725, u'pork sausages'),\n",
       "   (0.0177226789198015, u'swiss chard'),\n",
       "   (0.01641927989738663, u'sun-dried tomatoes')],\n",
       "  -914.6529274673072),\n",
       " ([(0.171139802687112, u'freshly ground pepper'),\n",
       "   (0.11014797122230381, u'whipping cream'),\n",
       "   (0.09744705330622398, u'rice'),\n",
       "   (0.0367140764473078, u'unsalted butter'),\n",
       "   (0.0360376602397747, u'brandy'),\n",
       "   (0.03170947667729132, u'ice water'),\n",
       "   (0.021335480626114546, u'shallots'),\n",
       "   (0.020600107015504035, u'mint sprigs'),\n",
       "   (0.016861762908244163, u'tamarind paste'),\n",
       "   (0.0164854768778463, u'whipped cream'),\n",
       "   (0.015867307823374803, u'fresh raspberries'),\n",
       "   (0.013986985220713453, u'lemon slices'),\n",
       "   (0.013456284722050843, u'herbes de provence'),\n",
       "   (0.013368420471826323, u'whole wheat flour'),\n",
       "   (0.012431612358295508, u'fish fillets'),\n",
       "   (0.01173477409329976, u'white mushrooms'),\n",
       "   (0.011424169126444185, u'granulated garlic'),\n",
       "   (0.01040001410870935, u'whole chicken'),\n",
       "   (0.010293198965182236, u'prunes'),\n",
       "   (0.009892549324857045, u'puff pastry')],\n",
       "  -923.1460023658392),\n",
       " ([(0.12663340537899387, u'coarse salt'),\n",
       "   (0.07479215902810485, u'shredded Monterey Jack cheese'),\n",
       "   (0.06934438300801105, u'half & half'),\n",
       "   (0.06694854286666281, u'cooked chicken'),\n",
       "   (0.0491244815020953, u'chives'),\n",
       "   (0.036315529847854654, u'cream of tartar'),\n",
       "   (0.0257215946059688, u'walnuts'),\n",
       "   (0.025684743955766302, u'fresh chives'),\n",
       "   (0.02562478527571773, u'hazelnuts'),\n",
       "   (0.025411120839833073, u'granny smith apples'),\n",
       "   (0.02342359462112328, u'ground cardamom'),\n",
       "   (0.023222639796963408, u'bow-tie pasta'),\n",
       "   (0.020540491015515968, u'hominy'),\n",
       "   (0.020230224937237164, u'pineapple juice'),\n",
       "   (0.018757571549020875, u'cilantro stems'),\n",
       "   (0.016922717640610797, u'non-fat sour cream'),\n",
       "   (0.015664924388700797, u'coarse sea salt'),\n",
       "   (0.013079108182554994, u'wine'),\n",
       "   (0.011571476666553853, u'slaw mix'),\n",
       "   (0.010720637640749594, u'low-fat sour cream')],\n",
       "  -925.6219164184034),\n",
       " ([(0.07721611416229693, u'spinach'),\n",
       "   (0.07167684312631138, u'orange'),\n",
       "   (0.05511283067676686, u'baby spinach'),\n",
       "   (0.05148534162284315, u'fresh dill'),\n",
       "   (0.04682385158374168, u'fresh orange juice'),\n",
       "   (0.03790163134138968, u'french bread'),\n",
       "   (0.03482480230642025, u'coconut oil'),\n",
       "   (0.032620954621448865, u'lemon'),\n",
       "   (0.03248343200604511, u'raisins'),\n",
       "   (0.03239005615598009, u'panko breadcrumbs'),\n",
       "   (0.03175441456895384, u'italian sausage'),\n",
       "   (0.02789974160930758, u'meat'),\n",
       "   (0.027136560110970973, u'extra firm tofu'),\n",
       "   (0.02191413452171889, u'quickcooking grits'),\n",
       "   (0.01764559726888892, u'squid'),\n",
       "   (0.017545564471175185, u'corn flour'),\n",
       "   (0.016026626736599117, u'fresh pineapple'),\n",
       "   (0.015008348611289801, u'grated Gruy\\xe8re cheese'),\n",
       "   (0.014749628968413956, u'rum'),\n",
       "   (0.011715593950109356, u'sourdough bread')],\n",
       "  -934.2276122190649)]"
      ]
     },
     "execution_count": 115,
     "metadata": {},
     "output_type": "execute_result"
    }
   ],
   "source": [
    "top_topics2"
   ]
  },
  {
   "cell_type": "code",
   "execution_count": 39,
   "metadata": {},
   "outputs": [],
   "source": [
    "top_topics2_1=[x[1] for x in top_topics2]\n",
    "coherence2=np.mean(top_topics2_1)\n",
    "top_topics1_1=[x[1] for x in top_topics1]\n",
    "coherence=np.mean(top_topics1_1)"
   ]
  },
  {
   "cell_type": "code",
   "execution_count": 40,
   "metadata": {},
   "outputs": [
    {
     "name": "stdout",
     "output_type": "stream",
     "text": [
      "(-699.4559739709771, -737.7190246856348)\n"
     ]
    }
   ],
   "source": [
    "print(coherence, coherence2)"
   ]
  },
  {
   "cell_type": "code",
   "execution_count": 41,
   "metadata": {},
   "outputs": [],
   "source": [
    "def save_answers3(coherence, coherence2):\n",
    "    with open(\"cooking_LDA_pa_task3.txt\", \"w\") as fout:\n",
    "        fout.write(\" \".join([\"%3f\"%el for el in [coherence, coherence2]]))"
   ]
  },
  {
   "cell_type": "code",
   "execution_count": 42,
   "metadata": {},
   "outputs": [],
   "source": [
    "save_answers3(coherence, coherence2)"
   ]
  },
  {
   "cell_type": "code",
   "execution_count": 43,
   "metadata": {},
   "outputs": [
    {
     "name": "stdout",
     "output_type": "stream",
     "text": [
      "1.16.1\n",
      "2.3.0\n"
     ]
    }
   ],
   "source": [
    "import gensim\n",
    "print np.__version__\n",
    "print gensim.__version__"
   ]
  },
  {
   "cell_type": "markdown",
   "metadata": {},
   "source": [
    "Считается, что когерентность хорошо соотносится с человеческими оценками интерпретируемости тем. Поэтому на больших текстовых коллекциях когерентность обычно повышается, если убрать фоновую лексику. Однако в нашем случае этого не произошло. "
   ]
  },
  {
   "cell_type": "markdown",
   "metadata": {},
   "source": [
    "### Изучение влияния гиперпараметра alpha"
   ]
  },
  {
   "cell_type": "markdown",
   "metadata": {},
   "source": [
    "В этом разделе мы будем работать со второй моделью, то есть той, которая построена по сокращенному корпусу. \n",
    "\n",
    "Пока что мы посмотрели только на матрицу темы-слова, теперь давайте посмотрим на матрицу темы-документы. Выведите темы для нулевого (или любого другого) документа из корпуса, воспользовавшись методом *get_document_topics* второй модели:"
   ]
  },
  {
   "cell_type": "code",
   "execution_count": 64,
   "metadata": {},
   "outputs": [],
   "source": [
    "\n"
   ]
  },
  {
   "cell_type": "code",
   "execution_count": 67,
   "metadata": {},
   "outputs": [
    {
     "data": {
      "text/plain": [
       "[(5, 0.13075619403233654), (7, 0.5054245687730414), (11, 0.2481942371946208)]"
      ]
     },
     "execution_count": 67,
     "metadata": {},
     "output_type": "execute_result"
    }
   ],
   "source": [
    "\n",
    "lda2.get_document_topics(corpus2[0])"
   ]
  },
  {
   "cell_type": "markdown",
   "metadata": {},
   "source": [
    "Также выведите содержимое переменной *.alpha* второй модели:"
   ]
  },
  {
   "cell_type": "code",
   "execution_count": 68,
   "metadata": {},
   "outputs": [
    {
     "data": {
      "text/plain": [
       "array([0.025, 0.025, 0.025, 0.025, 0.025, 0.025, 0.025, 0.025, 0.025,\n",
       "       0.025, 0.025, 0.025, 0.025, 0.025, 0.025, 0.025, 0.025, 0.025,\n",
       "       0.025, 0.025, 0.025, 0.025, 0.025, 0.025, 0.025, 0.025, 0.025,\n",
       "       0.025, 0.025, 0.025, 0.025, 0.025, 0.025, 0.025, 0.025, 0.025,\n",
       "       0.025, 0.025, 0.025, 0.025])"
      ]
     },
     "execution_count": 68,
     "metadata": {},
     "output_type": "execute_result"
    }
   ],
   "source": [
    "lda2.alpha\n"
   ]
  },
  {
   "cell_type": "markdown",
   "metadata": {},
   "source": [
    "У вас должно получиться, что документ характеризуется небольшим числом тем. Попробуем поменять гиперпараметр alpha, задающий априорное распределение Дирихле для распределений тем в документах."
   ]
  },
  {
   "cell_type": "markdown",
   "metadata": {},
   "source": [
    "__Задание 4.__ Обучите третью модель: используйте сокращенный корпус (corpus2 и dictionary2) и установите параметр __alpha=1__, passes=5. Не забудьте про фиксацию seed! Выведите темы новой модели для нулевого документа; должно получиться, что распределение над множеством тем практически равномерное. Чтобы убедиться в том, что во второй модели документы описываются гораздо более разреженными распределениями, чем в третьей, посчитайте суммарное количество элементов, __превосходящих 0.01__, в матрицах темы-документы обеих моделей. Другими словами, запросите темы  модели для каждого документа с параметром *minimum_probability=0.01* и просуммируйте число элементов в получаемых массивах. Передайте две суммы (сначала для модели с alpha по умолчанию, затем для модели в alpha=1) в функцию save_answers4."
   ]
  },
  {
   "cell_type": "code",
   "execution_count": 154,
   "metadata": {},
   "outputs": [],
   "source": [
    "np.random.seed(76543)\n",
    "# здесь код для построения модели:\n",
    "\n",
    "lda3 = models.ldamodel.LdaModel(corpus2, id2word=dictionary2, num_topics=40, alpha=1, passes=5)"
   ]
  },
  {
   "cell_type": "code",
   "execution_count": 156,
   "metadata": {},
   "outputs": [
    {
     "name": "stdout",
     "output_type": "stream",
     "text": [
      "198126\n"
     ]
    }
   ],
   "source": [
    "s2=0\n",
    "for i in corpus2:\n",
    "    s2+=len(lda2.get_document_topics(i, minimum_probability=0.01))\n",
    "print(s2)"
   ]
  },
  {
   "cell_type": "code",
   "execution_count": 157,
   "metadata": {},
   "outputs": [
    {
     "name": "stdout",
     "output_type": "stream",
     "text": [
      "1590960\n"
     ]
    }
   ],
   "source": [
    "s3=0\n",
    "for i in corpus2:\n",
    "    s3+=len(lda3.get_document_topics(i, minimum_probability=0.01))\n",
    "print(s3)"
   ]
  },
  {
   "cell_type": "code",
   "execution_count": 142,
   "metadata": {},
   "outputs": [],
   "source": [
    "#lda2.minimum_probability = 0.01\n",
    "#lda3.minimum_probability = 0.01\n",
    "number_2_docs=lda2.get_document_topics(corpus2, minimum_probability=0.01)\n",
    "number_3_docs=lda3.get_document_topics(corpus2, minimum_probability=0.01)"
   ]
  },
  {
   "cell_type": "code",
   "execution_count": 152,
   "metadata": {},
   "outputs": [
    {
     "data": {
      "text/plain": [
       "40"
      ]
     },
     "execution_count": 152,
     "metadata": {},
     "output_type": "execute_result"
    }
   ],
   "source": [
    "len(number_3_docs[1])"
   ]
  },
  {
   "cell_type": "code",
   "execution_count": 144,
   "metadata": {},
   "outputs": [
    {
     "ename": "ValueError",
     "evalue": "Wrong number of dimensions. values.ndim != ndim [3 != 1]",
     "output_type": "error",
     "traceback": [
      "\u001b[1;31m---------------------------------------------------------------------------\u001b[0m",
      "\u001b[1;31mValueError\u001b[0m                                Traceback (most recent call last)",
      "\u001b[1;32m<ipython-input-144-617e08869bcf>\u001b[0m in \u001b[0;36m<module>\u001b[1;34m()\u001b[0m\n\u001b[1;32m----> 1\u001b[1;33m \u001b[0mdf_num_3\u001b[0m\u001b[1;33m=\u001b[0m\u001b[0mpd\u001b[0m\u001b[1;33m.\u001b[0m\u001b[0mSeries\u001b[0m\u001b[1;33m(\u001b[0m\u001b[0mnumber_3_docs\u001b[0m\u001b[1;33m)\u001b[0m\u001b[1;33m\u001b[0m\u001b[0m\n\u001b[0m\u001b[0;32m      2\u001b[0m \u001b[0mdf_num_2\u001b[0m\u001b[1;33m=\u001b[0m\u001b[0mpd\u001b[0m\u001b[1;33m.\u001b[0m\u001b[0mSeries\u001b[0m\u001b[1;33m(\u001b[0m\u001b[0mnumber_2_docs\u001b[0m\u001b[1;33m)\u001b[0m\u001b[1;33m\u001b[0m\u001b[0m\n",
      "\u001b[1;32mC:\\Users\\Asus\\Anaconda2\\lib\\site-packages\\pandas\\core\\series.pyc\u001b[0m in \u001b[0;36m__init__\u001b[1;34m(self, data, index, dtype, name, copy, fastpath)\u001b[0m\n\u001b[0;32m    262\u001b[0m                                       raise_cast_failure=True)\n\u001b[0;32m    263\u001b[0m \u001b[1;33m\u001b[0m\u001b[0m\n\u001b[1;32m--> 264\u001b[1;33m                 \u001b[0mdata\u001b[0m \u001b[1;33m=\u001b[0m \u001b[0mSingleBlockManager\u001b[0m\u001b[1;33m(\u001b[0m\u001b[0mdata\u001b[0m\u001b[1;33m,\u001b[0m \u001b[0mindex\u001b[0m\u001b[1;33m,\u001b[0m \u001b[0mfastpath\u001b[0m\u001b[1;33m=\u001b[0m\u001b[0mTrue\u001b[0m\u001b[1;33m)\u001b[0m\u001b[1;33m\u001b[0m\u001b[0m\n\u001b[0m\u001b[0;32m    265\u001b[0m \u001b[1;33m\u001b[0m\u001b[0m\n\u001b[0;32m    266\u001b[0m         \u001b[0mgeneric\u001b[0m\u001b[1;33m.\u001b[0m\u001b[0mNDFrame\u001b[0m\u001b[1;33m.\u001b[0m\u001b[0m__init__\u001b[0m\u001b[1;33m(\u001b[0m\u001b[0mself\u001b[0m\u001b[1;33m,\u001b[0m \u001b[0mdata\u001b[0m\u001b[1;33m,\u001b[0m \u001b[0mfastpath\u001b[0m\u001b[1;33m=\u001b[0m\u001b[0mTrue\u001b[0m\u001b[1;33m)\u001b[0m\u001b[1;33m\u001b[0m\u001b[0m\n",
      "\u001b[1;32mC:\\Users\\Asus\\Anaconda2\\lib\\site-packages\\pandas\\core\\internals\\managers.pyc\u001b[0m in \u001b[0;36m__init__\u001b[1;34m(self, block, axis, do_integrity_check, fastpath)\u001b[0m\n\u001b[0;32m   1479\u001b[0m \u001b[1;33m\u001b[0m\u001b[0m\n\u001b[0;32m   1480\u001b[0m         \u001b[1;32mif\u001b[0m \u001b[1;32mnot\u001b[0m \u001b[0misinstance\u001b[0m\u001b[1;33m(\u001b[0m\u001b[0mblock\u001b[0m\u001b[1;33m,\u001b[0m \u001b[0mBlock\u001b[0m\u001b[1;33m)\u001b[0m\u001b[1;33m:\u001b[0m\u001b[1;33m\u001b[0m\u001b[0m\n\u001b[1;32m-> 1481\u001b[1;33m             \u001b[0mblock\u001b[0m \u001b[1;33m=\u001b[0m \u001b[0mmake_block\u001b[0m\u001b[1;33m(\u001b[0m\u001b[0mblock\u001b[0m\u001b[1;33m,\u001b[0m \u001b[0mplacement\u001b[0m\u001b[1;33m=\u001b[0m\u001b[0mslice\u001b[0m\u001b[1;33m(\u001b[0m\u001b[1;36m0\u001b[0m\u001b[1;33m,\u001b[0m \u001b[0mlen\u001b[0m\u001b[1;33m(\u001b[0m\u001b[0maxis\u001b[0m\u001b[1;33m)\u001b[0m\u001b[1;33m)\u001b[0m\u001b[1;33m,\u001b[0m \u001b[0mndim\u001b[0m\u001b[1;33m=\u001b[0m\u001b[1;36m1\u001b[0m\u001b[1;33m)\u001b[0m\u001b[1;33m\u001b[0m\u001b[0m\n\u001b[0m\u001b[0;32m   1482\u001b[0m \u001b[1;33m\u001b[0m\u001b[0m\n\u001b[0;32m   1483\u001b[0m         \u001b[0mself\u001b[0m\u001b[1;33m.\u001b[0m\u001b[0mblocks\u001b[0m \u001b[1;33m=\u001b[0m \u001b[1;33m[\u001b[0m\u001b[0mblock\u001b[0m\u001b[1;33m]\u001b[0m\u001b[1;33m\u001b[0m\u001b[0m\n",
      "\u001b[1;32mC:\\Users\\Asus\\Anaconda2\\lib\\site-packages\\pandas\\core\\internals\\blocks.pyc\u001b[0m in \u001b[0;36mmake_block\u001b[1;34m(values, placement, klass, ndim, dtype, fastpath)\u001b[0m\n\u001b[0;32m   3093\u001b[0m         \u001b[0mvalues\u001b[0m \u001b[1;33m=\u001b[0m \u001b[0mDatetimeArray\u001b[0m\u001b[1;33m.\u001b[0m\u001b[0m_simple_new\u001b[0m\u001b[1;33m(\u001b[0m\u001b[0mvalues\u001b[0m\u001b[1;33m,\u001b[0m \u001b[0mdtype\u001b[0m\u001b[1;33m=\u001b[0m\u001b[0mdtype\u001b[0m\u001b[1;33m)\u001b[0m\u001b[1;33m\u001b[0m\u001b[0m\n\u001b[0;32m   3094\u001b[0m \u001b[1;33m\u001b[0m\u001b[0m\n\u001b[1;32m-> 3095\u001b[1;33m     \u001b[1;32mreturn\u001b[0m \u001b[0mklass\u001b[0m\u001b[1;33m(\u001b[0m\u001b[0mvalues\u001b[0m\u001b[1;33m,\u001b[0m \u001b[0mndim\u001b[0m\u001b[1;33m=\u001b[0m\u001b[0mndim\u001b[0m\u001b[1;33m,\u001b[0m \u001b[0mplacement\u001b[0m\u001b[1;33m=\u001b[0m\u001b[0mplacement\u001b[0m\u001b[1;33m)\u001b[0m\u001b[1;33m\u001b[0m\u001b[0m\n\u001b[0m\u001b[0;32m   3096\u001b[0m \u001b[1;33m\u001b[0m\u001b[0m\n\u001b[0;32m   3097\u001b[0m \u001b[1;33m\u001b[0m\u001b[0m\n",
      "\u001b[1;32mC:\\Users\\Asus\\Anaconda2\\lib\\site-packages\\pandas\\core\\internals\\blocks.pyc\u001b[0m in \u001b[0;36m__init__\u001b[1;34m(self, values, placement, ndim)\u001b[0m\n\u001b[0;32m     77\u001b[0m \u001b[1;33m\u001b[0m\u001b[0m\n\u001b[0;32m     78\u001b[0m     \u001b[1;32mdef\u001b[0m \u001b[0m__init__\u001b[0m\u001b[1;33m(\u001b[0m\u001b[0mself\u001b[0m\u001b[1;33m,\u001b[0m \u001b[0mvalues\u001b[0m\u001b[1;33m,\u001b[0m \u001b[0mplacement\u001b[0m\u001b[1;33m,\u001b[0m \u001b[0mndim\u001b[0m\u001b[1;33m=\u001b[0m\u001b[0mNone\u001b[0m\u001b[1;33m)\u001b[0m\u001b[1;33m:\u001b[0m\u001b[1;33m\u001b[0m\u001b[0m\n\u001b[1;32m---> 79\u001b[1;33m         \u001b[0mself\u001b[0m\u001b[1;33m.\u001b[0m\u001b[0mndim\u001b[0m \u001b[1;33m=\u001b[0m \u001b[0mself\u001b[0m\u001b[1;33m.\u001b[0m\u001b[0m_check_ndim\u001b[0m\u001b[1;33m(\u001b[0m\u001b[0mvalues\u001b[0m\u001b[1;33m,\u001b[0m \u001b[0mndim\u001b[0m\u001b[1;33m)\u001b[0m\u001b[1;33m\u001b[0m\u001b[0m\n\u001b[0m\u001b[0;32m     80\u001b[0m         \u001b[0mself\u001b[0m\u001b[1;33m.\u001b[0m\u001b[0mmgr_locs\u001b[0m \u001b[1;33m=\u001b[0m \u001b[0mplacement\u001b[0m\u001b[1;33m\u001b[0m\u001b[0m\n\u001b[0;32m     81\u001b[0m         \u001b[0mself\u001b[0m\u001b[1;33m.\u001b[0m\u001b[0mvalues\u001b[0m \u001b[1;33m=\u001b[0m \u001b[0mvalues\u001b[0m\u001b[1;33m\u001b[0m\u001b[0m\n",
      "\u001b[1;32mC:\\Users\\Asus\\Anaconda2\\lib\\site-packages\\pandas\\core\\internals\\blocks.pyc\u001b[0m in \u001b[0;36m_check_ndim\u001b[1;34m(self, values, ndim)\u001b[0m\n\u001b[0;32m    113\u001b[0m             msg = (\"Wrong number of dimensions. values.ndim != ndim \"\n\u001b[0;32m    114\u001b[0m                    \"[{} != {}]\")\n\u001b[1;32m--> 115\u001b[1;33m             \u001b[1;32mraise\u001b[0m \u001b[0mValueError\u001b[0m\u001b[1;33m(\u001b[0m\u001b[0mmsg\u001b[0m\u001b[1;33m.\u001b[0m\u001b[0mformat\u001b[0m\u001b[1;33m(\u001b[0m\u001b[0mvalues\u001b[0m\u001b[1;33m.\u001b[0m\u001b[0mndim\u001b[0m\u001b[1;33m,\u001b[0m \u001b[0mndim\u001b[0m\u001b[1;33m)\u001b[0m\u001b[1;33m)\u001b[0m\u001b[1;33m\u001b[0m\u001b[0m\n\u001b[0m\u001b[0;32m    116\u001b[0m \u001b[1;33m\u001b[0m\u001b[0m\n\u001b[0;32m    117\u001b[0m         \u001b[1;32mreturn\u001b[0m \u001b[0mndim\u001b[0m\u001b[1;33m\u001b[0m\u001b[0m\n",
      "\u001b[1;31mValueError\u001b[0m: Wrong number of dimensions. values.ndim != ndim [3 != 1]"
     ]
    }
   ],
   "source": [
    "df_num_3=pd.Series(number_3_docs)\n",
    "df_num_2=pd.Series(number_2_docs)"
   ]
  },
  {
   "cell_type": "code",
   "execution_count": 158,
   "metadata": {},
   "outputs": [],
   "source": [
    "count_model2=s2\n",
    "count_model3=s3"
   ]
  },
  {
   "cell_type": "code",
   "execution_count": 159,
   "metadata": {},
   "outputs": [
    {
     "name": "stdout",
     "output_type": "stream",
     "text": [
      "(198126, 1590960)\n"
     ]
    }
   ],
   "source": [
    "print(count_model2, count_model3)"
   ]
  },
  {
   "cell_type": "code",
   "execution_count": 160,
   "metadata": {},
   "outputs": [],
   "source": [
    "def save_answers4(count_model2, count_model3):\n",
    "    with open(\"cooking_LDA_pa_task4.txt\", \"w\") as fout:\n",
    "        fout.write(\" \".join([str(el) for el in [count_model2, count_model3]]))"
   ]
  },
  {
   "cell_type": "code",
   "execution_count": 161,
   "metadata": {},
   "outputs": [],
   "source": [
    "save_answers4(count_model2, count_model3)"
   ]
  },
  {
   "cell_type": "markdown",
   "metadata": {},
   "source": [
    "Таким образом, гиперпараметр __alpha__ влияет на разреженность распределений тем в документах. Аналогично гиперпараметр __eta__ влияет на разреженность распределений слов в темах."
   ]
  },
  {
   "cell_type": "markdown",
   "metadata": {},
   "source": [
    "### LDA как способ понижения размерности\n",
    "Иногда, распределения над темами, найденные с помощью LDA, добавляют в матрицу объекты-признаки как дополнительные, семантические, признаки, и это может улучшить качество решения задачи. Для простоты давайте просто обучим классификатор рецептов на кухни на признаках, полученных из LDA, и измерим точность (accuracy).\n",
    "\n",
    "__Задание 5.__ Используйте модель, построенную по сокращенной выборке с alpha по умолчанию (вторую модель). Составьте матрицу $\\Theta = p(t|d)$ вероятностей тем в документах; вы можете использовать тот же метод get_document_topics, а также вектор правильных ответов y (в том же порядке, в котором рецепты идут в переменной recipes). Создайте объект RandomForestClassifier со 100 деревьями, с помощью функции cross_val_score вычислите среднюю accuracy по трем фолдам (перемешивать данные не нужно) и передайте в функцию save_answers5."
   ]
  },
  {
   "cell_type": "code",
   "execution_count": 163,
   "metadata": {},
   "outputs": [],
   "source": [
    "from sklearn.ensemble import RandomForestClassifier\n",
    "from sklearn.model_selection import cross_val_score"
   ]
  },
  {
   "cell_type": "code",
   "execution_count": 171,
   "metadata": {},
   "outputs": [],
   "source": [
    "lda2.get_document_topics(corpus2)\n",
    "df_num_2=pd.Series(lda2.get_document_topics(corpus2))"
   ]
  },
  {
   "cell_type": "code",
   "execution_count": 188,
   "metadata": {},
   "outputs": [
    {
     "data": {
      "text/plain": [
       "[(19, 0.11602141478677078),\n",
       " (22, 0.2892857142857142),\n",
       " (28, 0.14642857142857138),\n",
       " (34, 0.14642857142857138),\n",
       " (39, 0.17683572807037196)]"
      ]
     },
     "execution_count": 188,
     "metadata": {},
     "output_type": "execute_result"
    }
   ],
   "source": [
    "df_num_2[10259]"
   ]
  },
  {
   "cell_type": "code",
   "execution_count": 180,
   "metadata": {},
   "outputs": [
    {
     "ename": "TypeError",
     "evalue": "unsupported operand type(s) for +=: 'int' and 'tuple'",
     "output_type": "error",
     "traceback": [
      "\u001b[1;31m---------------------------------------------------------------------------\u001b[0m",
      "\u001b[1;31mTypeError\u001b[0m                                 Traceback (most recent call last)",
      "\u001b[1;32m<ipython-input-180-b40f44f8f8a9>\u001b[0m in \u001b[0;36m<module>\u001b[1;34m()\u001b[0m\n\u001b[0;32m      2\u001b[0m \u001b[0mlen\u001b[0m\u001b[1;33m(\u001b[0m\u001b[0mdf_num_2\u001b[0m\u001b[1;33m[\u001b[0m\u001b[1;36m10259\u001b[0m\u001b[1;33m]\u001b[0m\u001b[1;33m)\u001b[0m\u001b[1;33m\u001b[0m\u001b[0m\n\u001b[0;32m      3\u001b[0m \u001b[1;32mfor\u001b[0m \u001b[0mi\u001b[0m \u001b[1;32min\u001b[0m \u001b[0mrange\u001b[0m\u001b[1;33m(\u001b[0m\u001b[1;36m5\u001b[0m\u001b[1;33m)\u001b[0m\u001b[1;33m:\u001b[0m\u001b[1;33m\u001b[0m\u001b[0m\n\u001b[1;32m----> 4\u001b[1;33m     \u001b[0mk\u001b[0m\u001b[1;33m+=\u001b[0m\u001b[0mdf_num_2\u001b[0m\u001b[1;33m[\u001b[0m\u001b[1;36m10259\u001b[0m\u001b[1;33m]\u001b[0m\u001b[1;33m[\u001b[0m\u001b[0mi\u001b[0m\u001b[1;33m]\u001b[0m\u001b[1;33m\u001b[0m\u001b[0m\n\u001b[0m\u001b[0;32m      5\u001b[0m \u001b[1;32mprint\u001b[0m \u001b[0mk\u001b[0m\u001b[1;33m\u001b[0m\u001b[0m\n\u001b[0;32m      6\u001b[0m \u001b[1;33m\u001b[0m\u001b[0m\n",
      "\u001b[1;31mTypeError\u001b[0m: unsupported operand type(s) for +=: 'int' and 'tuple'"
     ]
    }
   ],
   "source": [
    "k=0\n",
    "len(df_num_2[10259])\n",
    "for i in range(5):\n",
    "    k+=df_num_2[10259][i]\n",
    "print k\n",
    "    "
   ]
  },
  {
   "cell_type": "code",
   "execution_count": 176,
   "metadata": {},
   "outputs": [
    {
     "data": {
      "text/plain": [
       "[(1880, 1), (2837, 1), (3225, 1), (3714, 1), (4902, 1), (5729, 1), (6110, 1)]"
      ]
     },
     "execution_count": 176,
     "metadata": {},
     "output_type": "execute_result"
    }
   ],
   "source": [
    "corpus2[0]"
   ]
  },
  {
   "cell_type": "code",
   "execution_count": 175,
   "metadata": {},
   "outputs": [
    {
     "data": {
      "text/plain": [
       "[u'romaine lettuce',\n",
       " u'black olives',\n",
       " u'grape tomatoes',\n",
       " u'garlic',\n",
       " u'pepper',\n",
       " u'purple onion',\n",
       " u'seasoning',\n",
       " u'garbanzo beans',\n",
       " u'feta cheese crumbles']"
      ]
     },
     "execution_count": 175,
     "metadata": {},
     "output_type": "execute_result"
    }
   ],
   "source": [
    "df_new=pd.DataFrame.from_dict(recipes)\n",
    "df_new.ingredients[0]"
   ]
  },
  {
   "cell_type": "code",
   "execution_count": null,
   "metadata": {},
   "outputs": [],
   "source": []
  },
  {
   "cell_type": "code",
   "execution_count": null,
   "metadata": {},
   "outputs": [],
   "source": [
    "def save_answers5(accuracy):\n",
    "     with open(\"cooking_LDA_pa_task5.txt\", \"w\") as fout:\n",
    "        fout.write(str(accuracy))"
   ]
  },
  {
   "cell_type": "markdown",
   "metadata": {},
   "source": [
    "Для такого большого количества классов это неплохая точность. Вы можете попроовать обучать RandomForest на исходной матрице частот слов, имеющей значительно большую размерность, и увидеть, что accuracy увеличивается на 10–15%. Таким образом, LDA собрал не всю, но достаточно большую часть информации из выборки, в матрице низкого ранга."
   ]
  },
  {
   "cell_type": "markdown",
   "metadata": {},
   "source": [
    "### LDA — вероятностная модель\n",
    "Матричное разложение, использующееся в LDA, интерпретируется как следующий процесс генерации документов.\n",
    "\n",
    "Для документа $d$ длины $n_d$:\n",
    "1. Из априорного распределения Дирихле с параметром alpha сгенерировать распределение над множеством тем: $\\theta_d \\sim Dirichlet(\\alpha)$\n",
    "1. Для каждого слова $w = 1, \\dots, n_d$:\n",
    "    1. Сгенерировать тему из дискретного распределения $t \\sim \\theta_{d}$\n",
    "    1. Сгенерировать слово из дискретного распределения $w \\sim \\phi_{t}$.\n",
    "    \n",
    "Подробнее об этом в [Википедии](https://en.wikipedia.org/wiki/Latent_Dirichlet_allocation).\n",
    "\n",
    "В контексте нашей задачи получается, что, используя данный генеративный процесс, можно создавать новые рецепты. Вы можете передать в функцию модель и число ингредиентов и сгенерировать рецепт :)"
   ]
  },
  {
   "cell_type": "code",
   "execution_count": null,
   "metadata": {},
   "outputs": [],
   "source": [
    "def generate_recipe(model, num_ingredients):\n",
    "    theta = np.random.dirichlet(model.alpha)\n",
    "    for i in range(num_ingredients):\n",
    "        t = np.random.choice(np.arange(model.num_topics), p=theta)\n",
    "        topic = model.show_topic(t, topn=model.num_terms)\n",
    "        topic_distr = [x[1] for x in topic]\n",
    "        terms = [x[0] for x in topic]\n",
    "        w = np.random.choice(terms, p=topic_distr)\n",
    "        print w"
   ]
  },
  {
   "cell_type": "code",
   "execution_count": null,
   "metadata": {},
   "outputs": [],
   "source": []
  },
  {
   "cell_type": "markdown",
   "metadata": {},
   "source": [
    "### Интерпретация построенной модели\n",
    "Вы можете рассмотреть топы ингредиентов каждой темы. Большиснтво тем сами по себе похожи на рецепты; в некоторых собираются продукты одного вида, например, свежие фрукты или разные виды сыра.\n",
    "\n",
    "Попробуем эмпирически соотнести наши темы с национальными кухнями (cuisine). Построим матрицу $A$ размера темы $x$ кухни, ее элементы $a_{tc}$ — суммы $p(t|d)$ по всем документам $d$, которые отнесены к кухне $c$. Нормируем матрицу на частоты рецептов по разным кухням, чтобы избежать дисбаланса между кухнями. Следующая функция получает на вход объект модели, объект корпуса и исходные данные и возвращает нормированную матрицу $A$. Ее удобно визуализировать с помощью seaborn."
   ]
  },
  {
   "cell_type": "code",
   "execution_count": null,
   "metadata": {},
   "outputs": [],
   "source": [
    "import pandas\n",
    "import seaborn\n",
    "from matplotlib import pyplot as plt\n",
    "%matplotlib inline"
   ]
  },
  {
   "cell_type": "code",
   "execution_count": null,
   "metadata": {},
   "outputs": [],
   "source": [
    "def compute_topic_cuisine_matrix(model, corpus, recipes):\n",
    "    # составляем вектор целевых признаков\n",
    "    targets = list(set([recipe[\"cuisine\"] for recipe in recipes]))\n",
    "    # составляем матрицу\n",
    "    tc_matrix = pandas.DataFrame(data=np.zeros((model.num_topics, len(targets))), columns=targets)\n",
    "    for recipe, bow in zip(recipes, corpus):\n",
    "        recipe_topic = model.get_document_topics(bow)\n",
    "        for t, prob in recipe_topic:\n",
    "            tc_matrix[recipe[\"cuisine\"]][t] += prob\n",
    "    # нормируем матрицу\n",
    "    target_sums = pandas.DataFrame(data=np.zeros((1, len(targets))), columns=targets)\n",
    "    for recipe in recipes:\n",
    "        target_sums[recipe[\"cuisine\"]] += 1\n",
    "    return pandas.DataFrame(tc_matrix.values/target_sums.values, columns=tc_matrix.columns)"
   ]
  },
  {
   "cell_type": "code",
   "execution_count": null,
   "metadata": {},
   "outputs": [],
   "source": [
    "def plot_matrix(tc_matrix):\n",
    "    plt.figure(figsize=(10, 10))\n",
    "    seaborn.heatmap(tc_matrix, square=True)"
   ]
  },
  {
   "cell_type": "code",
   "execution_count": null,
   "metadata": {},
   "outputs": [],
   "source": [
    "# Визуализируйте матрицу\n"
   ]
  },
  {
   "cell_type": "markdown",
   "metadata": {},
   "source": [
    "Чем темнее квадрат в матрице, тем больше связь этой темы с данной кухней. Мы видим, что у нас есть темы, которые связаны с несколькими кухнями. Такие темы показывают набор ингредиентов, которые популярны в кухнях нескольких народов, то есть указывают на схожесть кухонь этих народов. Некоторые темы распределены по всем кухням равномерно, они показывают наборы продуктов, которые часто используются в кулинарии всех стран. "
   ]
  },
  {
   "cell_type": "markdown",
   "metadata": {},
   "source": [
    "Жаль, что в датасете нет названий рецептов, иначе темы было бы проще интерпретировать..."
   ]
  },
  {
   "cell_type": "markdown",
   "metadata": {},
   "source": [
    "### Заключение\n",
    "В этом задании вы построили несколько моделей LDA, посмотрели, на что влияют гиперпараметры модели и как можно использовать построенную модель. "
   ]
  }
 ],
 "metadata": {
  "kernelspec": {
   "display_name": "Python 2",
   "language": "python",
   "name": "python2"
  },
  "language_info": {
   "codemirror_mode": {
    "name": "ipython",
    "version": 2
   },
   "file_extension": ".py",
   "mimetype": "text/x-python",
   "name": "python",
   "nbconvert_exporter": "python",
   "pygments_lexer": "ipython2",
   "version": "2.7.16"
  }
 },
 "nbformat": 4,
 "nbformat_minor": 1
}
